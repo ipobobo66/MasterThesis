{
 "cells": [
  {
   "cell_type": "code",
   "execution_count": 1,
   "metadata": {},
   "outputs": [],
   "source": [
    "import time"
   ]
  },
  {
   "cell_type": "markdown",
   "metadata": {},
   "source": [
    "# Random HUBO generator"
   ]
  },
  {
   "cell_type": "code",
   "execution_count": 2,
   "metadata": {},
   "outputs": [
    {
     "name": "stdout",
     "output_type": "stream",
     "text": [
      "Generated HUBO Problem:\n",
      "Term: (0, 1, 2, 3), Coefficient: -6.80\n",
      "Term: (1,), Coefficient: -9.89\n",
      "Term: (0, 2), Coefficient: -1.10\n",
      "Term: (1, 2), Coefficient: 9.91\n",
      "Term: (3,), Coefficient: -9.12\n",
      "Term: (0, 2, 3), Coefficient: 3.84\n",
      "Term: (2, 3), Coefficient: -0.06\n"
     ]
    }
   ],
   "source": [
    "\n",
    "import numpy as np\n",
    "\n",
    "def generate_random_hubo(num_variables, max_order, num_terms, seed=None):\n",
    "    # Args:\n",
    "    #    num_variables (int): The total number of binary variables in the HUBO problem.\n",
    "    #    max_order (int):  The maximum order (degree) of terms in the HUBO problem. \n",
    "    #    num_terms (int): The number of terms to generate in the HUBO problem.\n",
    "    #    seed (int, optional): Random seed for reproducibility. Defaults to None.\n",
    "\n",
    "    rng = np.random.default_rng(seed)\n",
    "    hubo = {} # Dict to store the HUBO problem\n",
    "\n",
    "    for _ in range(num_terms):\n",
    "        # Randomly choose the order of the term\n",
    "        order = rng.integers(1, max_order + 1)\n",
    "\n",
    "        # Randomly select variable indices for the term\n",
    "        variables = tuple(sorted(rng.choice(num_variables, size=order, replace=False)))\n",
    "\n",
    "        # Randomly generate a coefficient for the term\n",
    "        coefficient = rng.uniform(-10, 10)\n",
    "\n",
    "        # Add the term to the HUBO problem\n",
    "        hubo[variables] = coefficient\n",
    "\n",
    "    # Returns:\n",
    "    #    dict: The generated HUBO problem as a dictionary.\n",
    "    #          Keys are tuples of variable indices, values are coefficients.\n",
    "\n",
    "    return hubo\n",
    "\n",
    "\n",
    "# Example usage\n",
    "num_variables = 4    # Number of binary variables\n",
    "max_order = 4        # Maximum order of terms (here cubic terms) --> If set to 2 we get a QUBO problem!\n",
    "num_terms = 10       # Number of terms in the HUBO\n",
    "seed = 7            # Random seed for reproducibility of terms and coefficients\n",
    "\n",
    "rand_hubo_problem = generate_random_hubo(num_variables, max_order, num_terms, seed)\n",
    "\n",
    "# Print the HUBO problem\n",
    "print(\"Generated HUBO Problem:\")\n",
    "for key, value in rand_hubo_problem.items():\n",
    "    print(f\"Term: {key}, Coefficient: {value:.2f}\")\n",
    "\n",
    "\n"
   ]
  },
  {
   "cell_type": "code",
   "execution_count": 3,
   "metadata": {},
   "outputs": [
    {
     "data": {
      "text/plain": [
       "{(0, 1, 2, 3): -6.795759322843109,\n",
       " (1,): -9.894693908688506,\n",
       " (0, 2): -1.0984738823470686,\n",
       " (1, 2): 9.910005668687852,\n",
       " (3,): -9.121159840772332,\n",
       " (0, 2, 3): 3.840642417636783,\n",
       " (2, 3): -0.06253129212991482}"
      ]
     },
     "execution_count": 3,
     "metadata": {},
     "output_type": "execute_result"
    }
   ],
   "source": [
    "# Print the HUBO problem in its dictionary format\n",
    "rand_hubo_problem"
   ]
  },
  {
   "cell_type": "markdown",
   "metadata": {},
   "source": [
    "# Mapping HUBO to QUBO"
   ]
  },
  {
   "cell_type": "markdown",
   "metadata": {},
   "source": [
    "## Mapping via auxiliary variables == penalty functions (coefficients tuned by hand)"
   ]
  },
  {
   "cell_type": "code",
   "execution_count": 4,
   "metadata": {},
   "outputs": [
    {
     "name": "stdout",
     "output_type": "stream",
     "text": [
      "QUBO: {(0, 4): -1.6989398307107773, (1, 4): -1.6989398307107773, (2, 4): -1.6989398307107773, (3, 4): -1.6989398307107773, (4, 4): 6.795759322843109, (1,): -9.894693908688506, (0, 2): -1.0984738823470686, (1, 2): 9.910005668687852, (3,): -9.121159840772332, (0, 5): 1.280214139212261, (2, 5): 1.280214139212261, (3, 5): 1.280214139212261, (5, 5): -3.840642417636783, (2, 3): -0.06253129212991482}\n",
      "No. of auxiliary variables: 2\n"
     ]
    }
   ],
   "source": [
    "\n",
    "def hubo_to_qubo(hubo):\n",
    "    #Args:\n",
    "    #    hubo (dict): The HUBO problem, where keys are tuples of binary variables\n",
    "    #                 (e.g., (i, j, k)) and values are coefficients, as with the generate_random_hubo\n",
    "    \n",
    "    qubo = {} # dict to store the QUBO problem\n",
    "    aux_var_count = 0  # Counter for auxiliary variables\n",
    "\n",
    "    for key, coeff in hubo.items():\n",
    "        if len(key) > 2:  # If the term is higher-order\n",
    "            # Decompose the higher-order term\n",
    "            vars_list = list(key)\n",
    "\n",
    "            # Create an auxiliary variable for the interaction (i.e. penalty function)\n",
    "            aux_var = num_variables + aux_var_count # first I have named the aux. var. #f\"aux_{aux_var_count}\", but this is hard to transfrom into qiskit QuadraticProgram object, so now we number them\n",
    "            aux_var_count += 1\n",
    "\n",
    "            # Add the new quadratic terms to the QUBO\n",
    "            for var in vars_list:\n",
    "                qubo[(var, aux_var)] = coeff / len(vars_list)\n",
    "            qubo[(aux_var, aux_var)] = -coeff   # Bias term for auxiliary variable\n",
    "        else:\n",
    "            # Add quadratic terms directly to the QUBO\n",
    "            qubo[key] = coeff\n",
    "        \n",
    "    #Returns:\n",
    "    #    dict: The resulting QUBO problem in the form of a dictionary, with the same key/value rules applied.\n",
    "    #    NOTE: like I have ,entioned before if generate_random_hubo max_order is set to 2, we get QUBO, so this function does nothing!\n",
    "\n",
    "    return qubo, aux_var_count\n",
    "\n",
    "\n",
    "# Example: HUBO problem to check if it works (can be done pen and paper)\n",
    "\"\"\" hubo = {\n",
    "    (0, 1, 2): 3.0,  # A cubic term\n",
    "    (1, 2): -1.5,    # A quadratic term\n",
    "    (0,): 2.0        # A linear term\n",
    "} \"\"\"\n",
    "\n",
    "# Convert our random HUBO to QUBO\n",
    "qubo_from_hubo_pen, aux_var_count = hubo_to_qubo(rand_hubo_problem)\n",
    "print(\"QUBO:\", qubo_from_hubo_pen)\n",
    "print(\"No. of auxiliary variables:\", aux_var_count) # see that if we generate a quadratic HUBO (i.e. a QUBO) the prog. will return 0 auxiliary variables\n",
    "\n",
    "\n"
   ]
  },
  {
   "cell_type": "markdown",
   "metadata": {},
   "source": [
    "## Mapping via penalty functions again, tunable by hand still"
   ]
  },
  {
   "cell_type": "code",
   "execution_count": 5,
   "metadata": {},
   "outputs": [
    {
     "ename": "IndexError",
     "evalue": "index 3 is out of bounds for axis 0 with size 3",
     "output_type": "error",
     "traceback": [
      "\u001b[1;31m---------------------------------------------------------------------------\u001b[0m",
      "\u001b[1;31mIndexError\u001b[0m                                Traceback (most recent call last)",
      "Cell \u001b[1;32mIn[5], line 92\u001b[0m\n\u001b[0;32m     89\u001b[0m num_variables \u001b[38;5;241m=\u001b[39m \u001b[38;5;241m3\u001b[39m\n\u001b[0;32m     91\u001b[0m \u001b[38;5;66;03m# Convert HUBO problem to QUBO matrix\u001b[39;00m\n\u001b[1;32m---> 92\u001b[0m qubo_matrix \u001b[38;5;241m=\u001b[39m \u001b[43mmap_hubo_to_qubo\u001b[49m\u001b[43m(\u001b[49m\u001b[43mrand_hubo_problem\u001b[49m\u001b[43m,\u001b[49m\u001b[43m \u001b[49m\u001b[43mnum_variables\u001b[49m\u001b[43m)\u001b[49m\n\u001b[0;32m     93\u001b[0m qubo_dict \u001b[38;5;241m=\u001b[39m matr_to_dict(qubo_matrix)\n\u001b[0;32m     95\u001b[0m \u001b[38;5;66;03m# Print the resulting QUBO Matrix\u001b[39;00m\n",
      "Cell \u001b[1;32mIn[5], line 24\u001b[0m, in \u001b[0;36mmap_hubo_to_qubo\u001b[1;34m(hubo, num_variables)\u001b[0m\n\u001b[0;32m     22\u001b[0m \u001b[38;5;28;01mif\u001b[39;00m order \u001b[38;5;241m==\u001b[39m \u001b[38;5;241m1\u001b[39m:  \u001b[38;5;66;03m# Linear terms\u001b[39;00m\n\u001b[0;32m     23\u001b[0m     i \u001b[38;5;241m=\u001b[39m variables[\u001b[38;5;241m0\u001b[39m]\n\u001b[1;32m---> 24\u001b[0m     qubo_matrix[i, i] \u001b[38;5;241m+\u001b[39m\u001b[38;5;241m=\u001b[39m coeff\n\u001b[0;32m     26\u001b[0m \u001b[38;5;28;01melif\u001b[39;00m order \u001b[38;5;241m==\u001b[39m \u001b[38;5;241m2\u001b[39m:  \u001b[38;5;66;03m# Quadratic terms\u001b[39;00m\n\u001b[0;32m     27\u001b[0m     i, j \u001b[38;5;241m=\u001b[39m variables\n",
      "\u001b[1;31mIndexError\u001b[0m: index 3 is out of bounds for axis 0 with size 3"
     ]
    }
   ],
   "source": [
    "import numpy as np\n",
    "\n",
    "def map_hubo_to_qubo(hubo, num_variables):\n",
    "    \"\"\"\n",
    "    Map a HUBO problem with higher-order terms to a QUBO problem.\n",
    "    \n",
    "    Args:\n",
    "    - hubo (dict): HUBO problem with higher-order terms as key-value pairs.\n",
    "    - num_variables (int): Number of binary variables in the HUBO problem.\n",
    "    \n",
    "    Returns:\n",
    "    - qubo_matrix (numpy.ndarray): The resulting QUBO matrix.\n",
    "    \"\"\"\n",
    "    # Initialize QUBO matrix\n",
    "    qubo_matrix = np.zeros((num_variables, num_variables))\n",
    "    \n",
    "    aux_var_index = num_variables  # Start index for auxiliary variables\n",
    "    \n",
    "    for variables, coeff in hubo.items():\n",
    "        order = len(variables)\n",
    "        \n",
    "        if order == 1:  # Linear terms\n",
    "            i = variables[0]\n",
    "            qubo_matrix[i, i] += coeff\n",
    "            \n",
    "        elif order == 2:  # Quadratic terms\n",
    "            i, j = variables\n",
    "            qubo_matrix[i, j] += coeff\n",
    "            qubo_matrix[j, i] += coeff  # Symmetric matrix\n",
    "            \n",
    "        elif order == 3:  # Cubic terms\n",
    "            i, j, k = variables\n",
    "            z_ijk = aux_var_index\n",
    "            aux_var_index += 1\n",
    "\n",
    "            # Resize the QUBO matrix to accommodate the auxiliary variable\n",
    "            if aux_var_index >= qubo_matrix.shape[0]:\n",
    "                qubo_matrix = np.resize(qubo_matrix, (aux_var_index + 1, aux_var_index + 1))\n",
    "            \n",
    "            # Add penalty terms for cubic interaction\n",
    "            penalty_coeff =  coeff  # Penalty coefficient\n",
    "            qubo_matrix = add_penalty_terms(qubo_matrix, z_ijk, [i, j, k], penalty_coeff, cubic=True)\n",
    "            \n",
    "            # Update QUBO matrix for cubic term\n",
    "            qubo_matrix[i, j] += coeff * z_ijk\n",
    "            qubo_matrix[j, k] += coeff * z_ijk\n",
    "            qubo_matrix[i, k] += coeff * z_ijk\n",
    "            \n",
    "        # Additional cases can be added for quartic terms or higher-order terms.\n",
    "    \n",
    "    return qubo_matrix\n",
    "\n",
    "def add_penalty_terms(Q, aux_var, vars, penalty_coeff, cubic=True):\n",
    "    \"\"\"\n",
    "    Add penalty terms to the QUBO matrix for enforcing higher-order terms (cubic or quartic).\n",
    "    \n",
    "    Args:\n",
    "    - Q: The QUBO matrix.\n",
    "    - aux_var: The index of the auxiliary variable.\n",
    "    - vars: The indices of the variables involved in the interaction.\n",
    "    - penalty_coeff: The penalty coefficient.\n",
    "    - cubic: Whether the penalty is for cubic (True) or quartic (False).\n",
    "    \n",
    "    Returns:\n",
    "    - Updated QUBO matrix.\n",
    "    \"\"\"\n",
    "    if cubic:\n",
    "        # For cubic terms, introduce quadratic penalties\n",
    "        Q[aux_var, aux_var] = penalty_coeff\n",
    "        for v in vars:\n",
    "            Q[aux_var, v] = -penalty_coeff\n",
    "            Q[v, aux_var] = -penalty_coeff\n",
    "    else:\n",
    "        # For quartic terms, introduce quadratic penalties\n",
    "        Q[aux_var, aux_var] = penalty_coeff\n",
    "        for v in vars:\n",
    "            Q[aux_var, v] = -penalty_coeff\n",
    "            Q[v, aux_var] = -penalty_coeff\n",
    "\n",
    "    return Q\n",
    "\n",
    "def matr_to_dict(input_matrix):\n",
    "    upper_triangle_dict = {(i, j): qubo_matrix[i][j] \n",
    "                            for i in range(len(qubo_matrix)) \n",
    "                            for j in range(i, len(qubo_matrix[i]))}  # Only for j >= i as we should have a symmetrical matrix\n",
    "    return upper_triangle_dict\n",
    "\n",
    "# Number of binary variables\n",
    "num_variables = 3\n",
    "\n",
    "# Convert HUBO problem to QUBO matrix\n",
    "qubo_matrix = map_hubo_to_qubo(rand_hubo_problem, num_variables)\n",
    "qubo_dict = matr_to_dict(qubo_matrix)\n",
    "\n",
    "# Print the resulting QUBO Matrix\n",
    "print(\"Converted QUBO Matrix:\")\n",
    "print(qubo_matrix)\n",
    "# Print the resulting QUBO dictionary\n",
    "print(\"Converted QUBO dictionary:\")\n",
    "print(qubo_dict)\n"
   ]
  },
  {
   "cell_type": "markdown",
   "metadata": {},
   "source": [
    "## Mapping via the dimod (dwave) algorithm"
   ]
  },
  {
   "cell_type": "markdown",
   "metadata": {},
   "source": [
    "Automatic conversion, Auomatically handled auxiliary variables"
   ]
  },
  {
   "cell_type": "code",
   "execution_count": 6,
   "metadata": {},
   "outputs": [],
   "source": [
    "import dimod\n",
    "\n",
    "poly = dimod.BinaryPolynomial.from_hubo(rand_hubo_problem) # Construct a binary polynomial from a higher-order unconstrained binary optimization (HUBO) problem."
   ]
  },
  {
   "cell_type": "code",
   "execution_count": 7,
   "metadata": {},
   "outputs": [],
   "source": [
    "quadratic_from_hubo = dimod.make_quadratic(rand_hubo_problem, 10.0, dimod.BINARY) # Create a binary quadratic model from a higher order polynomial."
   ]
  },
  {
   "cell_type": "markdown",
   "metadata": {},
   "source": [
    "## Mapping via Qubovert package"
   ]
  },
  {
   "cell_type": "markdown",
   "metadata": {},
   "source": [
    "Automatic conversion, Auomatically handled auxiliary variables"
   ]
  },
  {
   "cell_type": "code",
   "execution_count": 8,
   "metadata": {},
   "outputs": [
    {
     "name": "stdout",
     "output_type": "stream",
     "text": [
      "QUBO: {(4,): 37.90920522143968, (0, 2): 11.537927858132823, (0, 4): -25.272803480959784, (2, 4): -25.272803480959784, (5,): 23.387277968529325, (1, 3): 7.795759322843109, (1, 5): -15.591518645686218, (3, 5): -15.591518645686218, (4, 5): -6.795759322843109, (1,): -9.894693908688506, (1, 2): 9.910005668687852, (3,): -9.121159840772332, (3, 4): 3.840642417636783, (2, 3): -0.06253129212991482}\n"
     ]
    }
   ],
   "source": [
    "from qubovert import PUBO\n",
    "\n",
    "# Define a HUBO\n",
    "hubo = PUBO(rand_hubo_problem)  # Example: x0 * x1 * x2 + 2 * x1 * x2 * x3\n",
    "\n",
    "# Convert HUBO to QUBO\n",
    "qubo_qubovert = hubo.to_qubo()\n",
    "\n",
    "# Print results\n",
    "print(\"QUBO:\", qubo_qubovert)\n",
    "\n",
    "qubo_variables = set(var for term in qubo_qubovert for var in term)\n"
   ]
  },
  {
   "cell_type": "markdown",
   "metadata": {},
   "source": [
    "## Mapping via tnreason polynomialcore engine"
   ]
  },
  {
   "cell_type": "code",
   "execution_count": 9,
   "metadata": {},
   "outputs": [
    {
     "name": "stdout",
     "output_type": "stream",
     "text": [
      "// This file has been generated by DOcplex\n",
      "// model name is: ILP_to_QUBO\n",
      "// single vars section\n",
      "dvar bool a;\n",
      "dvar bool b;\n",
      "dvar bool c;\n",
      "dvar bool d;\n",
      "dvar bool slack0;\n",
      "dvar bool slack1;\n",
      "\n",
      "maximize\n",
      " 2 slack0 - slack1;\n",
      " \n",
      "subject to {\n",
      " slack0 <= a;\n",
      " slack0 <= b;\n",
      " slack0 <= c;\n",
      " a + b + c -2 <= slack0;\n",
      " slack1 <= a;\n",
      " slack1 <= b;\n",
      " slack1 <= d;\n",
      " a + b + d -2 <= slack1;\n",
      "\n",
      "}\n"
     ]
    }
   ],
   "source": [
    "\n",
    "import docplex\n",
    "from qiskit_optimization.translators import from_docplex_mp\n",
    "\n",
    "from docplex.mp.model import Model\n",
    "from tnreason import engine\n",
    "\n",
    "def poly_to_cplex_model(polyCore):\n",
    "    \n",
    "    #Convert a HUBO into an ILP by introducing inequality constraints.\n",
    "    #All terms are replaced by slack variables and assosiated constraints.\n",
    "\n",
    "    #Args:\n",
    "    #    polyCore (PolynomialCore)\n",
    "    #Returns:\n",
    "    #    model: A docplex model. Can be then fed into QUBO solvers\n",
    "\n",
    "    model = Model(\"ILP_to_QUBO\")\n",
    "\n",
    "    variableDict = {\n",
    "        color: model.binary_var(name=color) for color in polyCore.colors\n",
    "    }\n",
    "\n",
    "    slackVariableDict = {\n",
    "        \"slack\" + str(j): model.binary_var(name=\"slack\" + str(j)) for j in range(len(polyCore.values))\n",
    "    }\n",
    "\n",
    "    for j, entry in enumerate(polyCore.values):\n",
    "        lowBound = 1\n",
    "        for var in entry[1]:\n",
    "            if entry[1][var] == 1:\n",
    "                lowBound = lowBound + variableDict[var] - 1\n",
    "                model.add_constraint(slackVariableDict[\"slack\" + str(j)] <= variableDict[var])\n",
    "            elif entry[1][var] == 0:\n",
    "                lowBound = lowBound - variableDict[var]\n",
    "                model.add_constraint(slackVariableDict[\"slack\" + str(j)] <= (1 - variableDict[var]))\n",
    "            else:\n",
    "                raise ValueError(\"Index {} not supported, binary only!\".format(entry[1][var]))\n",
    "        model.add_constraint(lowBound <= slackVariableDict[\"slack\" + str(j)])\n",
    "\n",
    "    objective = 0\n",
    "    for j, entry in enumerate(polyCore.values):\n",
    "        objective = objective + entry[0] * slackVariableDict[\"slack\" + str(j)]\n",
    "\n",
    "    model.maximize(objective)\n",
    "    return model\n",
    "\n",
    "colors = [\"a\",\"b\",\"c\",\"d\"]\n",
    "\n",
    "polyCore = engine.get_core(\"PolynomialCore\")(values=[(2, {\"a\":1, \"b\":1, \"c\":1}), (-1, {\"a\":1,\"b\":1,\"d\":1})], colors=colors, shape=[2 for key in colors])\n",
    "#polyCore = engine.get_core(\"PolynomialCore\")(values=[(2, {\"a\":1, \"b\":1}), (-1, {\"a\":1,\"d\":1}), (1, {\"c\":1,\"d\":1})], colors=colors, shape=[2 for key in colors])\n",
    "#polyCore = engine.get_core(\"PolynomialCore\")(values=[(1, {\"a\":1}), (1, {\"b\":1}), (1, {\"d\":1}), (1, {\"c\":1})], colors=colors, shape=[2 for key in colors])\n",
    "#polyCore = engine.get_core(\"PolynomialCore\")(values=[(1, {\"a\":1})], colors=[\"a\"], shape=[2 for key in [\"a\"]])\n",
    "#polyCore = engine.get_core(\"PolynomialCore\")(values=[(1, {\"a\":1, \"b\":1})], colors=[\"a\",\"b\"], shape=[2 for key in [\"a\",\"b\"]])\n",
    "#polyCore = engine.get_core(\"PolynomialCore\")(values=[(1, {\"a\":1})], colors=[\"a\"], shape=[2 for key in [\"a\"]])\n",
    "model = poly_to_cplex_model(polyCore)\n",
    "model.prettyprint()"
   ]
  },
  {
   "cell_type": "markdown",
   "metadata": {},
   "source": [
    "# Try Creating and solving QUBOs with qiskit"
   ]
  },
  {
   "cell_type": "markdown",
   "metadata": {},
   "source": [
    "For this to work we need to slice up the qubo matrix and feed the linear / quadratic parts separately to the QuadraticProgram()"
   ]
  },
  {
   "cell_type": "code",
   "execution_count": 10,
   "metadata": {},
   "outputs": [],
   "source": [
    "def slicer(input_dict): # slice our dict of input on the size of keys (i.e. the terms being Quadratic / Linear)\n",
    "\n",
    "    quadratic_terms = {} # make two dictionaries for quadratic and linear terms\n",
    "    linear_terms = {}\n",
    "\n",
    "    for i in range(len(input_dict)):\n",
    "        if len(list(input_dict.keys())[i]) == 2:\n",
    "            quadratic_terms[list(input_dict.keys())[i]] = list(input_dict.values())[i]\n",
    "\n",
    "    for i in range(len(input_dict)):\n",
    "        if len(list(input_dict.keys())[i]) == 1:\n",
    "            linear_terms[list(input_dict.keys())[i]] = list(input_dict.values())[i]\n",
    "                                                                  \n",
    "    return quadratic_terms, linear_terms"
   ]
  },
  {
   "cell_type": "code",
   "execution_count": 11,
   "metadata": {},
   "outputs": [],
   "source": [
    "q, l = slicer(qubo_qubovert)"
   ]
  },
  {
   "cell_type": "code",
   "execution_count": 12,
   "metadata": {},
   "outputs": [
    {
     "data": {
      "text/plain": [
       "{(4,): 37.90920522143968,\n",
       " (5,): 23.387277968529325,\n",
       " (1,): -9.894693908688506,\n",
       " (3,): -9.121159840772332}"
      ]
     },
     "execution_count": 12,
     "metadata": {},
     "output_type": "execute_result"
    }
   ],
   "source": [
    "l"
   ]
  },
  {
   "cell_type": "code",
   "execution_count": 13,
   "metadata": {},
   "outputs": [
    {
     "data": {
      "text/plain": [
       "{(0, 2): 11.537927858132823,\n",
       " (0, 4): -25.272803480959784,\n",
       " (2, 4): -25.272803480959784,\n",
       " (1, 3): 7.795759322843109,\n",
       " (1, 5): -15.591518645686218,\n",
       " (3, 5): -15.591518645686218,\n",
       " (4, 5): -6.795759322843109,\n",
       " (1, 2): 9.910005668687852,\n",
       " (3, 4): 3.840642417636783,\n",
       " (2, 3): -0.06253129212991482}"
      ]
     },
     "execution_count": 13,
     "metadata": {},
     "output_type": "execute_result"
    }
   ],
   "source": [
    "q"
   ]
  },
  {
   "cell_type": "code",
   "execution_count": 14,
   "metadata": {},
   "outputs": [],
   "source": [
    "from qiskit_aer import Aer\n",
    "from qiskit_algorithms import QAOA, VQE\n",
    "from qiskit_algorithms.optimizers import COBYLA, SPSA, ADAM, NELDER_MEAD, L_BFGS_B\n",
    "from qiskit.circuit.library import TwoLocal\n",
    "from qiskit.primitives import Sampler\n",
    "from qiskit_optimization import QuadraticProgram\n",
    "from qiskit_optimization.algorithms import MinimumEigenOptimizer\n",
    "\n",
    "# Step 1: Define the QUBO problem\n",
    "qubo = QuadraticProgram()\n",
    "# Add binary variables from our previously made random HUBO turned QUBO\n",
    "for i in range(0, len(qubo_variables)):\n",
    "    qubo.binary_var(f'x{i}')\n",
    "\"\"\" for i in range(0, aux_var_count):\n",
    "    qubo.binary_var(f'aux{i}') \"\"\"\n",
    "\n",
    "\n",
    "# Define the QUBO objective (minimize/maximuze usually)\n",
    "qubo.minimize(linear=l, quadratic=q)  "
   ]
  },
  {
   "cell_type": "code",
   "execution_count": 15,
   "metadata": {},
   "outputs": [
    {
     "data": {
      "text/plain": [
       "'Problem name: \\n\\nMinimize\\n  11.537927858132823*x0*x2 - 25.272803480959784*x0*x4 + 9.910005668687852*x1*x2\\n  + 7.795759322843109*x1*x3 - 15.591518645686218*x1*x5\\n  - 0.06253129212991482*x2*x3 - 25.272803480959784*x2*x4\\n  + 3.840642417636783*x3*x4 - 15.591518645686218*x3*x5 - 6.795759322843109*x4*x5\\n  - 9.894693908688506*x1 - 9.121159840772332*x3 + 37.90920522143968*x4\\n  + 23.387277968529325*x5\\n\\nSubject to\\n  No constraints\\n\\n  Binary variables (6)\\n    x0 x1 x2 x3 x4 x5\\n'"
      ]
     },
     "execution_count": 15,
     "metadata": {},
     "output_type": "execute_result"
    }
   ],
   "source": [
    "qubo.prettyprint() #see if it has been fed correctly"
   ]
  },
  {
   "cell_type": "code",
   "execution_count": 16,
   "metadata": {},
   "outputs": [
    {
     "data": {
      "text/plain": [
       "{(0, 4): -1.6989398307107773,\n",
       " (1, 4): -1.6989398307107773,\n",
       " (2, 4): -1.6989398307107773,\n",
       " (3, 4): -1.6989398307107773,\n",
       " (4, 4): 6.795759322843109,\n",
       " (1,): -9.894693908688506,\n",
       " (0, 2): -1.0984738823470686,\n",
       " (1, 2): 9.910005668687852,\n",
       " (3,): -9.121159840772332,\n",
       " (0, 5): 1.280214139212261,\n",
       " (2, 5): 1.280214139212261,\n",
       " (3, 5): 1.280214139212261,\n",
       " (5, 5): -3.840642417636783,\n",
       " (2, 3): -0.06253129212991482}"
      ]
     },
     "execution_count": 16,
     "metadata": {},
     "output_type": "execute_result"
    }
   ],
   "source": [
    "qubo_from_hubo_pen # our randomly generated HUBO turned QUBO with the added penalty terms"
   ]
  },
  {
   "cell_type": "code",
   "execution_count": 17,
   "metadata": {},
   "outputs": [
    {
     "data": {
      "text/plain": [
       "{(4,): 37.90920522143968,\n",
       " (0, 2): 11.537927858132823,\n",
       " (0, 4): -25.272803480959784,\n",
       " (2, 4): -25.272803480959784,\n",
       " (5,): 23.387277968529325,\n",
       " (1, 3): 7.795759322843109,\n",
       " (1, 5): -15.591518645686218,\n",
       " (3, 5): -15.591518645686218,\n",
       " (4, 5): -6.795759322843109,\n",
       " (1,): -9.894693908688506,\n",
       " (1, 2): 9.910005668687852,\n",
       " (3,): -9.121159840772332,\n",
       " (3, 4): 3.840642417636783,\n",
       " (2, 3): -0.06253129212991482}"
      ]
     },
     "execution_count": 17,
     "metadata": {},
     "output_type": "execute_result"
    }
   ],
   "source": [
    "qubo_qubovert # our randomly generated HUBO turned QUBO via the qubovert package"
   ]
  },
  {
   "cell_type": "code",
   "execution_count": 18,
   "metadata": {},
   "outputs": [
    {
     "data": {
      "text/plain": [
       "BinaryQuadraticModel({0: 0.0, 2: 0.0, '0*2': 30.0, 1: -9.894693908688506, '0*2*1': 30.0, 3: -9.121159840772332}, {(2, 0): 8.901526117652931, ('0*2', 0): -20.0, ('0*2', 2): -20.0, (1, 2): 9.910005668687852, (1, '0*2'): 10.0, ('0*2*1', '0*2'): -20.0, ('0*2*1', 1): -20.0, (3, 2): -0.06253129212991482, (3, '0*2'): 3.840642417636783, (3, '0*2*1'): -6.795759322843109}, 0.0, 'BINARY')"
      ]
     },
     "execution_count": 18,
     "metadata": {},
     "output_type": "execute_result"
    }
   ],
   "source": [
    "quadratic_from_hubo # our randomly generated HUBO turned QUBO via the d-wave package"
   ]
  },
  {
   "cell_type": "markdown",
   "metadata": {},
   "source": [
    "## Solving via Qiskit classical methods (Gurobi)"
   ]
  },
  {
   "cell_type": "code",
   "execution_count": 19,
   "metadata": {},
   "outputs": [
    {
     "name": "stdout",
     "output_type": "stream",
     "text": [
      "Restricted license - for non-production use only - expires 2026-11-23\n"
     ]
    },
    {
     "name": "stdout",
     "output_type": "stream",
     "text": [
      "Optimal solution(s):\n",
      "SolutionSample(x=[0.0, 1.0, 0.0, 1.0, 0.0, 1.0], fval=-19.015853749460838, probability=1.0, status=<OptimizationResultStatus.SUCCESS: 0>)\n",
      "Optimal value: -19.015853749460838\n",
      "Calculated in: 0.04634499549865723 seconds.\n"
     ]
    }
   ],
   "source": [
    "from qiskit_optimization.algorithms import GurobiOptimizer\n",
    "\n",
    "start_classical = time.time()\n",
    "# Use the GurobiOptimizer to find the solution\n",
    "exact_solver = GurobiOptimizer()\n",
    "result = exact_solver.solve(qubo)\n",
    "\n",
    "end_classical = time.time()\n",
    "# Display the result\n",
    "\n",
    "print(\"Optimal solution(s):\")\n",
    "solutions = [s for s in result.samples if s.fval == result.fval]\n",
    "for solution in solutions:\n",
    "    print(solution)\n",
    "    \n",
    "print(\"Optimal value:\", result.fval)\n",
    "print(\"Calculated in:\", end_classical - start_classical, \"seconds.\")"
   ]
  },
  {
   "cell_type": "markdown",
   "metadata": {},
   "source": [
    "## Solving via Qiskit quantum methods (QAOA)"
   ]
  },
  {
   "cell_type": "code",
   "execution_count": 20,
   "metadata": {},
   "outputs": [
    {
     "name": "stderr",
     "output_type": "stream",
     "text": [
      "C:\\Users\\Botond\\AppData\\Local\\Temp\\ipykernel_2300\\3582856058.py:2: DeprecationWarning: The class ``qiskit.primitives.sampler.Sampler`` is deprecated as of qiskit 1.2. It will be removed no earlier than 3 months after the release date. All implementations of the `BaseSamplerV1` interface have been deprecated in favor of their V2 counterparts. The V2 alternative for the `Sampler` class is `StatevectorSampler`.\n",
      "  sampler = Sampler()  # Sampling primitive for Qiskit\n"
     ]
    },
    {
     "name": "stdout",
     "output_type": "stream",
     "text": [
      "Optimal solution(s):\n",
      "SolutionSample(x=array([0., 1., 0., 1., 0., 1.]), fval=-19.015853749460838, probability=0.0434276555263436, status=<OptimizationResultStatus.SUCCESS: 0>)\n",
      "SolutionSample(x=array([1., 1., 0., 1., 0., 1.]), fval=-19.015853749460838, probability=0.1641041132163319, status=<OptimizationResultStatus.SUCCESS: 0>)\n",
      "Optimal value: -19.015853749460838\n",
      "Calculated in: 33.724891662597656 seconds.\n"
     ]
    }
   ],
   "source": [
    "# Step 2.B: Set up the QAOA solver\n",
    "sampler = Sampler()  # Sampling primitive for Qiskit\n",
    "qaoa = QAOA(sampler=sampler, optimizer = COBYLA(), reps=10)  # reps = depth of QAOA\n",
    "\n",
    "start_quantum = time.time()\n",
    "# Use the QAOA algorithm to solve the problem\n",
    "optimizer = MinimumEigenOptimizer(qaoa)\n",
    "result = optimizer.solve(qubo)\n",
    "\n",
    "end_quantum = time.time()\n",
    "# Display the result\n",
    "print(\"Optimal solution(s):\")\n",
    "solutions = [s for s in result.samples if s.fval == result.fval]\n",
    "for solution in solutions:\n",
    "    print(solution)\n",
    "\n",
    "print(\"Optimal value:\", result.fval)\n",
    "print(\"Calculated in:\", end_quantum - start_quantum, \"seconds.\")"
   ]
  },
  {
   "cell_type": "markdown",
   "metadata": {},
   "source": [
    "## Solve HUBO directly using Using Dimod (D-Wave's Python SDK)"
   ]
  },
  {
   "cell_type": "code",
   "execution_count": 21,
   "metadata": {},
   "outputs": [
    {
     "name": "stdout",
     "output_type": "stream",
     "text": [
      "Sample: {0: 0, 1: 1, 2: 0, 3: 1} Lowest Energy: -19.015853749460838\n"
     ]
    }
   ],
   "source": [
    "import dimod\n",
    "from dimod import ExactSolver\n",
    "solver = ExactSolver() # brute force approach\n",
    "\n",
    "# Solve the HUBO problem using the solver\n",
    "solution = solver.sample(poly)\n",
    "\n",
    "sample_list = []\n",
    "low_en = float()\n",
    "low_en_sample = _\n",
    "# Print the solution and its energy\n",
    "for sample, energy in solution.data(['sample', 'energy']):\n",
    "    sample_list.append((sample, energy))\n",
    "\n",
    "for i in range (0, len(sample_list)):\n",
    "    if sample_list[i][1] < low_en:\n",
    "        low_en = sample_list[i][1]\n",
    "        low_en_sample = sample_list[i][0]\n",
    "\n",
    "print(\"Sample:\", low_en_sample, \"Lowest Energy:\", low_en)\n",
    "\n"
   ]
  },
  {
   "cell_type": "markdown",
   "metadata": {},
   "source": [
    "## Solve QUBO via simulated annealing (D-Wave's Python SDK)"
   ]
  },
  {
   "cell_type": "code",
   "execution_count": 22,
   "metadata": {},
   "outputs": [
    {
     "name": "stdout",
     "output_type": "stream",
     "text": [
      "Best solution: {0: 0, 2: 0, '0*2': 0, 1: 1, '0*2*1': 0, 3: 1}\n",
      "Best energy: -19.015853749460838\n"
     ]
    }
   ],
   "source": [
    "from dwave.samplers import SimulatedAnnealingSampler\n",
    "from dimod import BinaryQuadraticModel\n",
    "#bqm = BinaryQuadraticModel.from_qubo(qubo_from_hubo_matrix)\n",
    "\n",
    "sampler = SimulatedAnnealingSampler()\n",
    "response = sampler.sample(quadratic_from_hubo, num_reads=100)\n",
    "\n",
    "# Print the best solution\n",
    "best_solution = response.first.sample\n",
    "best_energy = response.first.energy\n",
    "\n",
    "print(\"Best solution:\", best_solution)\n",
    "print(\"Best energy:\", best_energy)"
   ]
  },
  {
   "cell_type": "code",
   "execution_count": 23,
   "metadata": {},
   "outputs": [
    {
     "name": "stdout",
     "output_type": "stream",
     "text": [
      "Solution: {0: 0, 2: 0, '0*2': 0, 1: 1, '0*2*1': 0, 3: 1} Energy: -19.015853749460838 Occurrences: 1\n",
      "Solution: {0: 0, 2: 0, '0*2': 0, 1: 1, '0*2*1': 0, 3: 1} Energy: -19.015853749460838 Occurrences: 1\n",
      "Solution: {0: 1, 2: 0, '0*2': 0, 1: 1, '0*2*1': 0, 3: 1} Energy: -19.015853749460838 Occurrences: 1\n",
      "Solution: {0: 1, 2: 0, '0*2': 0, 1: 1, '0*2*1': 0, 3: 1} Energy: -19.015853749460838 Occurrences: 1\n",
      "Solution: {0: 1, 2: 0, '0*2': 0, 1: 1, '0*2*1': 0, 3: 1} Energy: -19.015853749460838 Occurrences: 1\n",
      "Solution: {0: 0, 2: 0, '0*2': 0, 1: 1, '0*2*1': 0, 3: 1} Energy: -19.015853749460838 Occurrences: 1\n",
      "Solution: {0: 0, 2: 0, '0*2': 0, 1: 1, '0*2*1': 0, 3: 1} Energy: -19.015853749460838 Occurrences: 1\n",
      "Solution: {0: 0, 2: 0, '0*2': 0, 1: 1, '0*2*1': 0, 3: 1} Energy: -19.015853749460838 Occurrences: 1\n",
      "Solution: {0: 1, 2: 0, '0*2': 0, 1: 1, '0*2*1': 0, 3: 1} Energy: -19.015853749460838 Occurrences: 1\n",
      "Solution: {0: 1, 2: 0, '0*2': 0, 1: 1, '0*2*1': 0, 3: 1} Energy: -19.015853749460838 Occurrences: 1\n",
      "Solution: {0: 1, 2: 0, '0*2': 0, 1: 1, '0*2*1': 0, 3: 1} Energy: -19.015853749460838 Occurrences: 1\n",
      "Solution: {0: 1, 2: 0, '0*2': 0, 1: 1, '0*2*1': 0, 3: 1} Energy: -19.015853749460838 Occurrences: 1\n",
      "Solution: {0: 0, 2: 0, '0*2': 0, 1: 1, '0*2*1': 0, 3: 1} Energy: -19.015853749460838 Occurrences: 1\n",
      "Solution: {0: 0, 2: 0, '0*2': 0, 1: 1, '0*2*1': 0, 3: 1} Energy: -19.015853749460838 Occurrences: 1\n",
      "Solution: {0: 1, 2: 0, '0*2': 0, 1: 1, '0*2*1': 0, 3: 1} Energy: -19.015853749460838 Occurrences: 1\n",
      "Solution: {0: 1, 2: 0, '0*2': 0, 1: 1, '0*2*1': 0, 3: 1} Energy: -19.015853749460838 Occurrences: 1\n",
      "Solution: {0: 0, 2: 0, '0*2': 0, 1: 1, '0*2*1': 0, 3: 1} Energy: -19.015853749460838 Occurrences: 1\n",
      "Solution: {0: 0, 2: 0, '0*2': 0, 1: 1, '0*2*1': 0, 3: 1} Energy: -19.015853749460838 Occurrences: 1\n",
      "Solution: {0: 0, 2: 0, '0*2': 0, 1: 1, '0*2*1': 0, 3: 1} Energy: -19.015853749460838 Occurrences: 1\n",
      "Solution: {0: 0, 2: 0, '0*2': 0, 1: 1, '0*2*1': 0, 3: 1} Energy: -19.015853749460838 Occurrences: 1\n",
      "Solution: {0: 0, 2: 0, '0*2': 0, 1: 1, '0*2*1': 0, 3: 1} Energy: -19.015853749460838 Occurrences: 1\n",
      "Solution: {0: 0, 2: 0, '0*2': 0, 1: 1, '0*2*1': 0, 3: 1} Energy: -19.015853749460838 Occurrences: 1\n",
      "Solution: {0: 0, 2: 0, '0*2': 0, 1: 1, '0*2*1': 0, 3: 1} Energy: -19.015853749460838 Occurrences: 1\n",
      "Solution: {0: 0, 2: 0, '0*2': 0, 1: 1, '0*2*1': 0, 3: 1} Energy: -19.015853749460838 Occurrences: 1\n",
      "Solution: {0: 1, 2: 0, '0*2': 0, 1: 1, '0*2*1': 0, 3: 1} Energy: -19.015853749460838 Occurrences: 1\n",
      "Solution: {0: 0, 2: 0, '0*2': 0, 1: 1, '0*2*1': 0, 3: 1} Energy: -19.015853749460838 Occurrences: 1\n",
      "Solution: {0: 0, 2: 0, '0*2': 0, 1: 1, '0*2*1': 0, 3: 1} Energy: -19.015853749460838 Occurrences: 1\n",
      "Solution: {0: 0, 2: 0, '0*2': 0, 1: 1, '0*2*1': 0, 3: 1} Energy: -19.015853749460838 Occurrences: 1\n",
      "Solution: {0: 0, 2: 0, '0*2': 0, 1: 1, '0*2*1': 0, 3: 1} Energy: -19.015853749460838 Occurrences: 1\n",
      "Solution: {0: 0, 2: 0, '0*2': 0, 1: 1, '0*2*1': 0, 3: 1} Energy: -19.015853749460838 Occurrences: 1\n",
      "Solution: {0: 0, 2: 0, '0*2': 0, 1: 1, '0*2*1': 0, 3: 1} Energy: -19.015853749460838 Occurrences: 1\n",
      "Solution: {0: 1, 2: 0, '0*2': 0, 1: 1, '0*2*1': 0, 3: 1} Energy: -19.015853749460838 Occurrences: 1\n",
      "Solution: {0: 1, 2: 0, '0*2': 0, 1: 1, '0*2*1': 0, 3: 1} Energy: -19.015853749460838 Occurrences: 1\n",
      "Solution: {0: 1, 2: 0, '0*2': 0, 1: 1, '0*2*1': 0, 3: 1} Energy: -19.015853749460838 Occurrences: 1\n",
      "Solution: {0: 1, 2: 0, '0*2': 0, 1: 1, '0*2*1': 0, 3: 1} Energy: -19.015853749460838 Occurrences: 1\n",
      "Solution: {0: 1, 2: 0, '0*2': 0, 1: 1, '0*2*1': 0, 3: 1} Energy: -19.015853749460838 Occurrences: 1\n",
      "Solution: {0: 1, 2: 0, '0*2': 0, 1: 1, '0*2*1': 0, 3: 1} Energy: -19.015853749460838 Occurrences: 1\n",
      "Solution: {0: 0, 2: 0, '0*2': 0, 1: 1, '0*2*1': 0, 3: 1} Energy: -19.015853749460838 Occurrences: 1\n",
      "Solution: {0: 0, 2: 0, '0*2': 0, 1: 1, '0*2*1': 0, 3: 1} Energy: -19.015853749460838 Occurrences: 1\n",
      "Solution: {0: 1, 2: 0, '0*2': 0, 1: 1, '0*2*1': 0, 3: 1} Energy: -19.015853749460838 Occurrences: 1\n",
      "Solution: {0: 0, 2: 0, '0*2': 0, 1: 1, '0*2*1': 0, 3: 1} Energy: -19.015853749460838 Occurrences: 1\n",
      "Solution: {0: 0, 2: 0, '0*2': 0, 1: 1, '0*2*1': 0, 3: 1} Energy: -19.015853749460838 Occurrences: 1\n",
      "Solution: {0: 1, 2: 0, '0*2': 0, 1: 1, '0*2*1': 0, 3: 1} Energy: -19.015853749460838 Occurrences: 1\n",
      "Solution: {0: 0, 2: 0, '0*2': 0, 1: 1, '0*2*1': 0, 3: 1} Energy: -19.015853749460838 Occurrences: 1\n",
      "Solution: {0: 1, 2: 0, '0*2': 0, 1: 1, '0*2*1': 0, 3: 1} Energy: -19.015853749460838 Occurrences: 1\n",
      "Solution: {0: 0, 2: 0, '0*2': 0, 1: 1, '0*2*1': 0, 3: 1} Energy: -19.015853749460838 Occurrences: 1\n",
      "Solution: {0: 1, 2: 0, '0*2': 0, 1: 1, '0*2*1': 0, 3: 1} Energy: -19.015853749460838 Occurrences: 1\n",
      "Solution: {0: 1, 2: 0, '0*2': 0, 1: 1, '0*2*1': 0, 3: 1} Energy: -19.015853749460838 Occurrences: 1\n",
      "Solution: {0: 1, 2: 0, '0*2': 0, 1: 1, '0*2*1': 0, 3: 1} Energy: -19.015853749460838 Occurrences: 1\n",
      "Solution: {0: 1, 2: 0, '0*2': 0, 1: 1, '0*2*1': 0, 3: 1} Energy: -19.015853749460838 Occurrences: 1\n",
      "Solution: {0: 0, 2: 0, '0*2': 0, 1: 1, '0*2*1': 0, 3: 1} Energy: -19.015853749460838 Occurrences: 1\n",
      "Solution: {0: 0, 2: 0, '0*2': 0, 1: 1, '0*2*1': 0, 3: 1} Energy: -19.015853749460838 Occurrences: 1\n",
      "Solution: {0: 0, 2: 0, '0*2': 0, 1: 1, '0*2*1': 0, 3: 1} Energy: -19.015853749460838 Occurrences: 1\n",
      "Solution: {0: 0, 2: 0, '0*2': 0, 1: 1, '0*2*1': 0, 3: 1} Energy: -19.015853749460838 Occurrences: 1\n",
      "Solution: {0: 1, 2: 0, '0*2': 0, 1: 1, '0*2*1': 0, 3: 1} Energy: -19.015853749460838 Occurrences: 1\n",
      "Solution: {0: 1, 2: 0, '0*2': 0, 1: 1, '0*2*1': 0, 3: 1} Energy: -19.015853749460838 Occurrences: 1\n",
      "Solution: {0: 1, 2: 0, '0*2': 0, 1: 1, '0*2*1': 0, 3: 1} Energy: -19.015853749460838 Occurrences: 1\n",
      "Solution: {0: 1, 2: 0, '0*2': 0, 1: 1, '0*2*1': 0, 3: 1} Energy: -19.015853749460838 Occurrences: 1\n",
      "Solution: {0: 1, 2: 0, '0*2': 0, 1: 1, '0*2*1': 0, 3: 1} Energy: -19.015853749460838 Occurrences: 1\n",
      "Solution: {0: 1, 2: 0, '0*2': 0, 1: 1, '0*2*1': 0, 3: 1} Energy: -19.015853749460838 Occurrences: 1\n",
      "Solution: {0: 1, 2: 0, '0*2': 0, 1: 1, '0*2*1': 0, 3: 1} Energy: -19.015853749460838 Occurrences: 1\n",
      "Solution: {0: 0, 2: 0, '0*2': 0, 1: 1, '0*2*1': 0, 3: 1} Energy: -19.015853749460838 Occurrences: 1\n",
      "Solution: {0: 1, 2: 0, '0*2': 0, 1: 1, '0*2*1': 0, 3: 1} Energy: -19.015853749460838 Occurrences: 1\n",
      "Solution: {0: 1, 2: 0, '0*2': 0, 1: 1, '0*2*1': 0, 3: 1} Energy: -19.015853749460838 Occurrences: 1\n",
      "Solution: {0: 0, 2: 0, '0*2': 0, 1: 1, '0*2*1': 0, 3: 1} Energy: -19.015853749460838 Occurrences: 1\n",
      "Solution: {0: 0, 2: 0, '0*2': 0, 1: 1, '0*2*1': 0, 3: 1} Energy: -19.015853749460838 Occurrences: 1\n",
      "Solution: {0: 1, 2: 0, '0*2': 0, 1: 1, '0*2*1': 0, 3: 1} Energy: -19.015853749460838 Occurrences: 1\n",
      "Solution: {0: 0, 2: 0, '0*2': 0, 1: 1, '0*2*1': 0, 3: 1} Energy: -19.015853749460838 Occurrences: 1\n",
      "Solution: {0: 1, 2: 0, '0*2': 0, 1: 1, '0*2*1': 0, 3: 1} Energy: -19.015853749460838 Occurrences: 1\n",
      "Solution: {0: 0, 2: 0, '0*2': 0, 1: 1, '0*2*1': 0, 3: 1} Energy: -19.015853749460838 Occurrences: 1\n",
      "Solution: {0: 0, 2: 0, '0*2': 0, 1: 1, '0*2*1': 0, 3: 1} Energy: -19.015853749460838 Occurrences: 1\n",
      "Solution: {0: 0, 2: 0, '0*2': 0, 1: 1, '0*2*1': 0, 3: 1} Energy: -19.015853749460838 Occurrences: 1\n",
      "Solution: {0: 1, 2: 0, '0*2': 0, 1: 1, '0*2*1': 0, 3: 1} Energy: -19.015853749460838 Occurrences: 1\n",
      "Solution: {0: 0, 2: 0, '0*2': 0, 1: 1, '0*2*1': 0, 3: 1} Energy: -19.015853749460838 Occurrences: 1\n",
      "Solution: {0: 0, 2: 0, '0*2': 0, 1: 1, '0*2*1': 0, 3: 1} Energy: -19.015853749460838 Occurrences: 1\n",
      "Solution: {0: 1, 2: 0, '0*2': 0, 1: 1, '0*2*1': 0, 3: 1} Energy: -19.015853749460838 Occurrences: 1\n",
      "Solution: {0: 0, 2: 0, '0*2': 0, 1: 1, '0*2*1': 0, 3: 1} Energy: -19.015853749460838 Occurrences: 1\n",
      "Solution: {0: 1, 2: 0, '0*2': 0, 1: 1, '0*2*1': 0, 3: 1} Energy: -19.015853749460838 Occurrences: 1\n",
      "Solution: {0: 0, 2: 0, '0*2': 0, 1: 1, '0*2*1': 0, 3: 1} Energy: -19.015853749460838 Occurrences: 1\n",
      "Solution: {0: 0, 2: 0, '0*2': 0, 1: 1, '0*2*1': 0, 3: 1} Energy: -19.015853749460838 Occurrences: 1\n",
      "Solution: {0: 0, 2: 0, '0*2': 0, 1: 1, '0*2*1': 0, 3: 1} Energy: -19.015853749460838 Occurrences: 1\n",
      "Solution: {0: 0, 2: 0, '0*2': 0, 1: 1, '0*2*1': 0, 3: 1} Energy: -19.015853749460838 Occurrences: 1\n",
      "Solution: {0: 1, 2: 0, '0*2': 0, 1: 1, '0*2*1': 0, 3: 1} Energy: -19.015853749460838 Occurrences: 1\n",
      "Solution: {0: 1, 2: 0, '0*2': 0, 1: 1, '0*2*1': 0, 3: 1} Energy: -19.015853749460838 Occurrences: 1\n",
      "Solution: {0: 0, 2: 0, '0*2': 0, 1: 1, '0*2*1': 0, 3: 1} Energy: -19.015853749460838 Occurrences: 1\n",
      "Solution: {0: 1, 2: 0, '0*2': 0, 1: 1, '0*2*1': 0, 3: 1} Energy: -19.015853749460838 Occurrences: 1\n",
      "Solution: {0: 0, 2: 0, '0*2': 0, 1: 1, '0*2*1': 0, 3: 1} Energy: -19.015853749460838 Occurrences: 1\n",
      "Solution: {0: 1, 2: 0, '0*2': 0, 1: 1, '0*2*1': 0, 3: 1} Energy: -19.015853749460838 Occurrences: 1\n",
      "Solution: {0: 0, 2: 0, '0*2': 0, 1: 1, '0*2*1': 0, 3: 1} Energy: -19.015853749460838 Occurrences: 1\n",
      "Solution: {0: 1, 2: 0, '0*2': 0, 1: 1, '0*2*1': 0, 3: 1} Energy: -19.015853749460838 Occurrences: 1\n",
      "Solution: {0: 1, 2: 0, '0*2': 0, 1: 1, '0*2*1': 0, 3: 1} Energy: -19.015853749460838 Occurrences: 1\n",
      "Solution: {0: 0, 2: 0, '0*2': 0, 1: 1, '0*2*1': 0, 3: 1} Energy: -19.015853749460838 Occurrences: 1\n",
      "Solution: {0: 1, 2: 0, '0*2': 0, 1: 1, '0*2*1': 0, 3: 1} Energy: -19.015853749460838 Occurrences: 1\n",
      "Solution: {0: 1, 2: 0, '0*2': 0, 1: 1, '0*2*1': 0, 3: 1} Energy: -19.015853749460838 Occurrences: 1\n",
      "Solution: {0: 0, 2: 0, '0*2': 0, 1: 1, '0*2*1': 0, 3: 1} Energy: -19.015853749460838 Occurrences: 1\n",
      "Solution: {0: 0, 2: 0, '0*2': 0, 1: 1, '0*2*1': 0, 3: 1} Energy: -19.015853749460838 Occurrences: 1\n",
      "Solution: {0: 1, 2: 0, '0*2': 0, 1: 1, '0*2*1': 0, 3: 1} Energy: -19.015853749460838 Occurrences: 1\n",
      "Solution: {0: 1, 2: 0, '0*2': 0, 1: 1, '0*2*1': 0, 3: 1} Energy: -19.015853749460838 Occurrences: 1\n",
      "Solution: {0: 1, 2: 0, '0*2': 0, 1: 1, '0*2*1': 0, 3: 1} Energy: -19.015853749460838 Occurrences: 1\n",
      "Solution: {0: 1, 2: 0, '0*2': 0, 1: 1, '0*2*1': 0, 3: 1} Energy: -19.015853749460838 Occurrences: 1\n"
     ]
    }
   ],
   "source": [
    "# Print all solutions\n",
    "for sample, energy, occurrences in response.data(fields=['sample', 'energy', 'num_occurrences']):\n",
    "    print(\"Solution:\", sample, \"Energy:\", energy, \"Occurrences:\", occurrences)\n"
   ]
  },
  {
   "cell_type": "markdown",
   "metadata": {},
   "source": [
    "## Exact solver (Brute force)"
   ]
  },
  {
   "cell_type": "code",
   "execution_count": 24,
   "metadata": {},
   "outputs": [
    {
     "name": "stdout",
     "output_type": "stream",
     "text": [
      "Optimal Assignment(s):\n",
      "{0: 0, 1: 0, 2: 0, 3: 0}\n",
      "{0: 0, 1: 0, 2: 0, 3: 1}\n",
      "{0: 0, 1: 0, 2: 1, 3: 1}\n",
      "{0: 0, 1: 1, 2: 0, 3: 0}\n",
      "{0: 0, 1: 1, 2: 0, 3: 1}\n",
      "Minimum Objective Value: -19.015853749460838\n",
      "Calculated in: 0.0 seconds.\n"
     ]
    }
   ],
   "source": [
    "import itertools\n",
    "\n",
    "def evaluate_qubo(qubo, assignment):\n",
    "    \n",
    "    #Evaluate the QUBO objective function for a given binary assignment.\n",
    "\n",
    "    #Args:\n",
    "    #    qubo (dict): The QUBO problem as a dictionary.\n",
    "    #    assignment (dict): A dictionary mapping variable names to binary values (0 or 1).\n",
    "\n",
    "    #Returns:\n",
    "    #    float: The value of the objective function.\n",
    "\n",
    "    # Evaluate the objective function by multiplying the coefficients with the assigned values and summing them up.\n",
    "\n",
    "    # Note: The QUBO is in the form of a dictionary where keys are tuples of variable names (e.g., ('x0', 'x1')) and values are coefficients.\n",
    "    # This function assumes that the QUBO is symmetric, i.e., qubo[(v1, v2)] == qubo[(v2, v1)].\n",
    "\n",
    "    # Example:\n",
    "    objective_value = 0\n",
    "    for (vars_, coeff) in qubo.items():\n",
    "        product = coeff\n",
    "        for var in vars_:\n",
    "            product *= assignment[var]\n",
    "        objective_value += product\n",
    "    return objective_value\n",
    "\n",
    "start_brute = time.time()\n",
    "def brute_force_solve_qubo(qubo):\n",
    "    \n",
    "    #Solve the QUBO problem using a brute-force approach.\n",
    "\n",
    "    #Args:\n",
    "    #    qubo (dict): The QUBO problem as a dictionary.\n",
    "\n",
    "    #Returns:\n",
    "    #    dict: The optimal binary assignment.\n",
    "    #    float: The minimum value of the objective function.\n",
    "\n",
    "    # Extract all unique variables from the QUBO dictionary keys.\n",
    "    variables = set()\n",
    "    for key in qubo.keys():\n",
    "        variables.update(key)\n",
    "\n",
    "    # Generate all possible binary assignments\n",
    "    num_variables = len(variables)\n",
    "    variable_list = list(variables)\n",
    "    all_assignments = itertools.product([0, 1], repeat=num_variables)\n",
    "\n",
    "    # Evaluate all assignments and find the minimum\n",
    "    min_value = float('inf')    # value of the minimum\n",
    "    optimal_assignment = []   # the optimal binary assignment of variables\n",
    "\n",
    "    for assignment_tuple in all_assignments:\n",
    "        assignment = dict(zip(variable_list, assignment_tuple))\n",
    "        value = evaluate_qubo(qubo, assignment)\n",
    "        if value < min_value:\n",
    "            min_value = value\n",
    "            optimal_assignment.append(assignment)\n",
    "\n",
    "    return optimal_assignment, min_value\n",
    "\n",
    "# Solve the QUBO problem\n",
    "optimal_assignment, min_value = brute_force_solve_qubo(rand_hubo_problem)\n",
    "\n",
    "end_brute = time.time()\n",
    "# Print the results\n",
    "print(\"Optimal Assignment(s):\")\n",
    "for el in optimal_assignment:\n",
    "    print(el)\n",
    "\n",
    "print(\"Minimum Objective Value:\", min_value)\n",
    "print(\"Calculated in:\", end_brute - start_brute, \"seconds.\")\n"
   ]
  },
  {
   "cell_type": "code",
   "execution_count": null,
   "metadata": {},
   "outputs": [],
   "source": []
  },
  {
   "cell_type": "code",
   "execution_count": null,
   "metadata": {},
   "outputs": [],
   "source": []
  },
  {
   "cell_type": "code",
   "execution_count": null,
   "metadata": {},
   "outputs": [],
   "source": []
  },
  {
   "cell_type": "code",
   "execution_count": null,
   "metadata": {},
   "outputs": [],
   "source": []
  },
  {
   "cell_type": "code",
   "execution_count": null,
   "metadata": {},
   "outputs": [],
   "source": []
  },
  {
   "cell_type": "code",
   "execution_count": null,
   "metadata": {},
   "outputs": [],
   "source": []
  },
  {
   "cell_type": "markdown",
   "metadata": {},
   "source": [
    "# Try Creating and solving QUBOs with D-wave"
   ]
  },
  {
   "cell_type": "code",
   "execution_count": 16,
   "metadata": {},
   "outputs": [
    {
     "ename": "AttributeError",
     "evalue": "module 'dwave.system' has no attribute 'Client'",
     "output_type": "error",
     "traceback": [
      "\u001b[1;31m---------------------------------------------------------------------------\u001b[0m",
      "\u001b[1;31mAttributeError\u001b[0m                            Traceback (most recent call last)",
      "Cell \u001b[1;32mIn[16], line 2\u001b[0m\n\u001b[0;32m      1\u001b[0m \u001b[38;5;28;01mimport\u001b[39;00m \u001b[38;5;21;01mdwave\u001b[39;00m\u001b[38;5;21;01m.\u001b[39;00m\u001b[38;5;21;01msystem\u001b[39;00m\n\u001b[1;32m----> 2\u001b[0m \u001b[43mdwave\u001b[49m\u001b[38;5;241;43m.\u001b[39;49m\u001b[43msystem\u001b[49m\u001b[38;5;241;43m.\u001b[39;49m\u001b[43mClient\u001b[49m\u001b[38;5;241m.\u001b[39mfrom_config(token\u001b[38;5;241m=\u001b[39m\u001b[38;5;124m'\u001b[39m\u001b[38;5;124mDEV-19676b6aea481ee3dcec55055b81db900d5c6544\u001b[39m\u001b[38;5;124m'\u001b[39m)\n",
      "\u001b[1;31mAttributeError\u001b[0m: module 'dwave.system' has no attribute 'Client'"
     ]
    }
   ],
   "source": [
    "import dwave.system\n",
    "dwave.system.Client.from_config(token='DEV-19676b6aea481ee3dcec55055b81db900d5c6544')"
   ]
  },
  {
   "cell_type": "code",
   "execution_count": 40,
   "metadata": {},
   "outputs": [],
   "source": [
    "from qiskit_optimization import QuadraticProgram\n",
    "from dimod import BinaryQuadraticModel\n",
    "\n",
    "def qiskit_to_dwave_bqm(qp: QuadraticProgram) -> BinaryQuadraticModel:\n",
    "    \"\"\"\n",
    "    Convert a Qiskit QuadraticProgram to a D-Wave BinaryQuadraticModel.\n",
    "    \n",
    "    Args:\n",
    "        qp (QuadraticProgram): The Qiskit QuadraticProgram to convert.\n",
    "\n",
    "    Returns:\n",
    "        BinaryQuadraticModel: The corresponding BinaryQuadraticModel.\n",
    "    \"\"\"\n",
    "    \n",
    "    # Initialize linear and quadratic coefficients\n",
    "    linear = {}\n",
    "    quadratic = {}\n",
    "    offset = qp.objective.constant\n",
    "\n",
    "    # Extract linear coefficients\n",
    "    for i, var in enumerate(qp.variables):\n",
    "        linear[var.name] = qp.objective.linear.get(var.name, 0.0)\n",
    "\n",
    "    # Extract quadratic coefficients\n",
    "    for (i, j), coeff in qp.objective.quadratic.items():\n",
    "        quadratic[(i, j)] = coeff\n",
    "\n",
    "    # Create BinaryQuadraticModel\n",
    "    bqm = BinaryQuadraticModel(linear, quadratic, offset, vartype='BINARY')\n",
    "    return bqm"
   ]
  },
  {
   "cell_type": "code",
   "execution_count": 41,
   "metadata": {},
   "outputs": [
    {
     "ename": "AttributeError",
     "evalue": "'LinearExpression' object has no attribute 'get'",
     "output_type": "error",
     "traceback": [
      "\u001b[1;31m---------------------------------------------------------------------------\u001b[0m",
      "\u001b[1;31mAttributeError\u001b[0m                            Traceback (most recent call last)",
      "Cell \u001b[1;32mIn[41], line 1\u001b[0m\n\u001b[1;32m----> 1\u001b[0m bqm \u001b[38;5;241m=\u001b[39m \u001b[43mqiskit_to_dwave_bqm\u001b[49m\u001b[43m(\u001b[49m\u001b[43mqubo\u001b[49m\u001b[43m)\u001b[49m\n",
      "Cell \u001b[1;32mIn[40], line 22\u001b[0m, in \u001b[0;36mqiskit_to_dwave_bqm\u001b[1;34m(qp)\u001b[0m\n\u001b[0;32m     20\u001b[0m \u001b[38;5;66;03m# Extract linear coefficients\u001b[39;00m\n\u001b[0;32m     21\u001b[0m \u001b[38;5;28;01mfor\u001b[39;00m i, var \u001b[38;5;129;01min\u001b[39;00m \u001b[38;5;28menumerate\u001b[39m(qp\u001b[38;5;241m.\u001b[39mvariables):\n\u001b[1;32m---> 22\u001b[0m     linear[var\u001b[38;5;241m.\u001b[39mname] \u001b[38;5;241m=\u001b[39m \u001b[43mqp\u001b[49m\u001b[38;5;241;43m.\u001b[39;49m\u001b[43mobjective\u001b[49m\u001b[38;5;241;43m.\u001b[39;49m\u001b[43mlinear\u001b[49m\u001b[38;5;241;43m.\u001b[39;49m\u001b[43mget\u001b[49m(var\u001b[38;5;241m.\u001b[39mname, \u001b[38;5;241m0.0\u001b[39m)\n\u001b[0;32m     24\u001b[0m \u001b[38;5;66;03m# Extract quadratic coefficients\u001b[39;00m\n\u001b[0;32m     25\u001b[0m \u001b[38;5;28;01mfor\u001b[39;00m (i, j), coeff \u001b[38;5;129;01min\u001b[39;00m qp\u001b[38;5;241m.\u001b[39mobjective\u001b[38;5;241m.\u001b[39mquadratic\u001b[38;5;241m.\u001b[39mitems():\n",
      "\u001b[1;31mAttributeError\u001b[0m: 'LinearExpression' object has no attribute 'get'"
     ]
    }
   ],
   "source": [
    "bqm = qiskit_to_dwave_bqm(qubo)"
   ]
  },
  {
   "cell_type": "code",
   "execution_count": 90,
   "metadata": {},
   "outputs": [],
   "source": [
    "def qiskit_to_dwave(linear_terms): # slice our dict of input on the size of keys (i.e. the terms being Quadratic / Linear)\n",
    "\n",
    "    linear_terms_dwave = {} # make two dictionaries for quadratic and linear terms\n",
    "\n",
    "    for i in range(len(linear_terms)):\n",
    "        linear_terms_dwave[(list(linear_terms.keys())[i], list(linear_terms.keys())[i])] = list(linear_terms.values())[i]\n",
    "\n",
    "                                                                  \n",
    "    return linear_terms\n",
    "\n",
    "l_d = qiskit_to_dwave(l)"
   ]
  },
  {
   "cell_type": "code",
   "execution_count": 91,
   "metadata": {},
   "outputs": [
    {
     "data": {
      "text/plain": [
       "(1,)"
      ]
     },
     "execution_count": 91,
     "metadata": {},
     "output_type": "execute_result"
    }
   ],
   "source": [
    "list(l.keys())[0]"
   ]
  },
  {
   "cell_type": "code",
   "execution_count": 92,
   "metadata": {},
   "outputs": [
    {
     "data": {
      "text/plain": [
       "{(1,): 1.0699470414898489}"
      ]
     },
     "execution_count": 92,
     "metadata": {},
     "output_type": "execute_result"
    }
   ],
   "source": [
    "l_d"
   ]
  },
  {
   "cell_type": "markdown",
   "metadata": {},
   "source": [
    "## Classical solution via D-wave interface"
   ]
  },
  {
   "cell_type": "code",
   "execution_count": 93,
   "metadata": {},
   "outputs": [
    {
     "data": {
      "text/plain": [
       "{(0, 3): -0.3661579607823562,\n",
       " (1, 3): -0.3661579607823562,\n",
       " (2, 3): -0.3661579607823562,\n",
       " (3, 3): 1.0984738823470686,\n",
       " (0, 1): -0.641300943125584,\n",
       " (1,): 1.0699470414898489}"
      ]
     },
     "execution_count": 93,
     "metadata": {},
     "output_type": "execute_result"
    }
   ],
   "source": [
    "qubo_from_hubo_pen"
   ]
  },
  {
   "cell_type": "code",
   "execution_count": 94,
   "metadata": {},
   "outputs": [
    {
     "ename": "ValueError",
     "evalue": "not enough values to unpack (expected 2, got 1)",
     "output_type": "error",
     "traceback": [
      "\u001b[1;31m---------------------------------------------------------------------------\u001b[0m",
      "\u001b[1;31mValueError\u001b[0m                                Traceback (most recent call last)",
      "Cell \u001b[1;32mIn[94], line 5\u001b[0m\n\u001b[0;32m      2\u001b[0m \u001b[38;5;28;01mfrom\u001b[39;00m \u001b[38;5;21;01mdimod\u001b[39;00m \u001b[38;5;28;01mimport\u001b[39;00m BinaryQuadraticModel\n\u001b[0;32m      4\u001b[0m Q \u001b[38;5;241m=\u001b[39m {(\u001b[38;5;241m0\u001b[39m, \u001b[38;5;241m0\u001b[39m): \u001b[38;5;241m1\u001b[39m, (\u001b[38;5;241m1\u001b[39m, \u001b[38;5;241m1\u001b[39m): \u001b[38;5;241m2\u001b[39m, (\u001b[38;5;241m0\u001b[39m, \u001b[38;5;241m1\u001b[39m): \u001b[38;5;241m-\u001b[39m\u001b[38;5;241m4\u001b[39m}  \u001b[38;5;66;03m# QUBO coefficients\u001b[39;00m\n\u001b[1;32m----> 5\u001b[0m bqm \u001b[38;5;241m=\u001b[39m \u001b[43mBinaryQuadraticModel\u001b[49m\u001b[38;5;241;43m.\u001b[39;49m\u001b[43mfrom_qubo\u001b[49m\u001b[43m(\u001b[49m\u001b[43mqubo_from_hubo_matrix\u001b[49m\u001b[43m)\u001b[49m\n\u001b[0;32m      7\u001b[0m sampler \u001b[38;5;241m=\u001b[39m SimulatedAnnealingSampler()\n\u001b[0;32m      8\u001b[0m response \u001b[38;5;241m=\u001b[39m sampler\u001b[38;5;241m.\u001b[39msample(bqm)\n",
      "File \u001b[1;32m~\\AppData\\Local\\Packages\\PythonSoftwareFoundation.Python.3.9_qbz5n2kfra8p0\\LocalCache\\local-packages\\Python39\\site-packages\\dimod\\binary\\binary_quadratic_model.py:1460\u001b[0m, in \u001b[0;36mBinaryQuadraticModel.from_qubo\u001b[1;34m(cls, Q, offset)\u001b[0m\n\u001b[0;32m   1443\u001b[0m \u001b[38;5;129m@classmethod\u001b[39m\n\u001b[0;32m   1444\u001b[0m \u001b[38;5;28;01mdef\u001b[39;00m \u001b[38;5;21mfrom_qubo\u001b[39m(\u001b[38;5;28mcls\u001b[39m, Q: Mapping, offset: \u001b[38;5;28mfloat\u001b[39m \u001b[38;5;241m=\u001b[39m \u001b[38;5;241m0\u001b[39m):\n\u001b[0;32m   1445\u001b[0m \u001b[38;5;250m    \u001b[39m\u001b[38;5;124;03m\"\"\"Create a binary quadratic model from a QUBO problem.\u001b[39;00m\n\u001b[0;32m   1446\u001b[0m \n\u001b[0;32m   1447\u001b[0m \u001b[38;5;124;03m    Args:\u001b[39;00m\n\u001b[1;32m   (...)\u001b[0m\n\u001b[0;32m   1458\u001b[0m \n\u001b[0;32m   1459\u001b[0m \u001b[38;5;124;03m    \"\"\"\u001b[39;00m\n\u001b[1;32m-> 1460\u001b[0m     \u001b[38;5;28;01mreturn\u001b[39;00m \u001b[38;5;28;43mcls\u001b[39;49m\u001b[43m(\u001b[49m\u001b[43m{\u001b[49m\u001b[43m}\u001b[49m\u001b[43m,\u001b[49m\u001b[43m \u001b[49m\u001b[43mQ\u001b[49m\u001b[43m,\u001b[49m\u001b[43m \u001b[49m\u001b[43moffset\u001b[49m\u001b[43m,\u001b[49m\u001b[43m \u001b[49m\u001b[43mVartype\u001b[49m\u001b[38;5;241;43m.\u001b[39;49m\u001b[43mBINARY\u001b[49m\u001b[43m)\u001b[49m\n",
      "File \u001b[1;32m~\\AppData\\Local\\Packages\\PythonSoftwareFoundation.Python.3.9_qbz5n2kfra8p0\\LocalCache\\local-packages\\Python39\\site-packages\\dimod\\binary\\binary_quadratic_model.py:205\u001b[0m, in \u001b[0;36mBinaryQuadraticModel.__init__\u001b[1;34m(self, offset, vartype, dtype, *args)\u001b[0m\n\u001b[0;32m    199\u001b[0m     \u001b[38;5;28;01mif\u001b[39;00m offset \u001b[38;5;129;01mis\u001b[39;00m \u001b[38;5;129;01mnot\u001b[39;00m \u001b[38;5;28;01mNone\u001b[39;00m:\n\u001b[0;32m    200\u001b[0m         \u001b[38;5;66;03m# we don't strictly need to fail in this case, we could instead\u001b[39;00m\n\u001b[0;32m    201\u001b[0m         \u001b[38;5;66;03m# add it, but I think this is closer to the normal python behavior\u001b[39;00m\n\u001b[0;32m    202\u001b[0m         \u001b[38;5;66;03m# of failing if an argument is provided twice\u001b[39;00m\n\u001b[0;32m    203\u001b[0m         \u001b[38;5;28;01mraise\u001b[39;00m \u001b[38;5;167;01mTypeError\u001b[39;00m(\u001b[38;5;124m\"\u001b[39m\u001b[38;5;124mBinaryQuadraticModel() got multiple values for \u001b[39m\u001b[38;5;124m'\u001b[39m\u001b[38;5;124moffset\u001b[39m\u001b[38;5;124m'\u001b[39m\u001b[38;5;124m\"\u001b[39m)\n\u001b[1;32m--> 205\u001b[0m     \u001b[38;5;28;43mself\u001b[39;49m\u001b[38;5;241;43m.\u001b[39;49m\u001b[43m_init_components\u001b[49m\u001b[43m(\u001b[49m\u001b[38;5;241;43m*\u001b[39;49m\u001b[43margs\u001b[49m\u001b[43m,\u001b[49m\u001b[43m \u001b[49m\u001b[43mdtype\u001b[49m\u001b[38;5;241;43m=\u001b[39;49m\u001b[43mdtype\u001b[49m\u001b[43m)\u001b[49m\n\u001b[0;32m    206\u001b[0m \u001b[38;5;28;01melse\u001b[39;00m:\n\u001b[0;32m    207\u001b[0m     msg \u001b[38;5;241m=\u001b[39m \u001b[38;5;124m\"\u001b[39m\u001b[38;5;124m__init__() takes 4 positional arguments but \u001b[39m\u001b[38;5;132;01m{}\u001b[39;00m\u001b[38;5;124m were given.\u001b[39m\u001b[38;5;124m\"\u001b[39m\n",
      "File \u001b[1;32m~\\AppData\\Local\\Packages\\PythonSoftwareFoundation.Python.3.9_qbz5n2kfra8p0\\LocalCache\\local-packages\\Python39\\site-packages\\dimod\\binary\\binary_quadratic_model.py:233\u001b[0m, in \u001b[0;36mBinaryQuadraticModel._init_components\u001b[1;34m(self, linear, quadratic, offset, vartype, dtype)\u001b[0m\n\u001b[0;32m    230\u001b[0m \u001b[38;5;28;01mif\u001b[39;00m \u001b[38;5;28misinstance\u001b[39m(quadratic, abc\u001b[38;5;241m.\u001b[39mMapping):\n\u001b[0;32m    231\u001b[0m     quadratic \u001b[38;5;241m=\u001b[39m ((u, v, b) \u001b[38;5;28;01mfor\u001b[39;00m (u, v), b \u001b[38;5;129;01min\u001b[39;00m quadratic\u001b[38;5;241m.\u001b[39mitems())\n\u001b[1;32m--> 233\u001b[0m \u001b[38;5;28;01mfor\u001b[39;00m u, v, bias \u001b[38;5;129;01min\u001b[39;00m quadratic:\n\u001b[0;32m    234\u001b[0m     \u001b[38;5;28;01mif\u001b[39;00m u \u001b[38;5;241m==\u001b[39m v:\n\u001b[0;32m    235\u001b[0m         \u001b[38;5;28;01mif\u001b[39;00m vartype \u001b[38;5;129;01mis\u001b[39;00m Vartype\u001b[38;5;241m.\u001b[39mBINARY:\n",
      "File \u001b[1;32m~\\AppData\\Local\\Packages\\PythonSoftwareFoundation.Python.3.9_qbz5n2kfra8p0\\LocalCache\\local-packages\\Python39\\site-packages\\dimod\\binary\\binary_quadratic_model.py:231\u001b[0m, in \u001b[0;36m<genexpr>\u001b[1;34m(.0)\u001b[0m\n\u001b[0;32m    229\u001b[0m \u001b[38;5;28;01mif\u001b[39;00m \u001b[38;5;28misinstance\u001b[39m(quadratic, (abc\u001b[38;5;241m.\u001b[39mMapping, abc\u001b[38;5;241m.\u001b[39mIterator)):\n\u001b[0;32m    230\u001b[0m     \u001b[38;5;28;01mif\u001b[39;00m \u001b[38;5;28misinstance\u001b[39m(quadratic, abc\u001b[38;5;241m.\u001b[39mMapping):\n\u001b[1;32m--> 231\u001b[0m         quadratic \u001b[38;5;241m=\u001b[39m ((u, v, b) \u001b[38;5;28;01mfor\u001b[39;00m (u, v), b \u001b[38;5;129;01min\u001b[39;00m quadratic\u001b[38;5;241m.\u001b[39mitems())\n\u001b[0;32m    233\u001b[0m     \u001b[38;5;28;01mfor\u001b[39;00m u, v, bias \u001b[38;5;129;01min\u001b[39;00m quadratic:\n\u001b[0;32m    234\u001b[0m         \u001b[38;5;28;01mif\u001b[39;00m u \u001b[38;5;241m==\u001b[39m v:\n",
      "\u001b[1;31mValueError\u001b[0m: not enough values to unpack (expected 2, got 1)"
     ]
    }
   ],
   "source": [
    "from dwave.samplers import SimulatedAnnealingSampler\n",
    "from dimod import BinaryQuadraticModel\n",
    "\n",
    "Q = {(0, 0): 1, (1, 1): 2, (0, 1): -4}  # QUBO coefficients\n",
    "bqm = BinaryQuadraticModel.from_qubo(qubo_from_hubo_pen)\n",
    "\n",
    "sampler = SimulatedAnnealingSampler()\n",
    "response = sampler.sample(bqm)\n",
    "\n",
    "print(response.first.sample)  # Optimal solution\n",
    "print(response.first.energy)"
   ]
  },
  {
   "cell_type": "code",
   "execution_count": 95,
   "metadata": {},
   "outputs": [
    {
     "ename": "ValueError",
     "evalue": "not enough values to unpack (expected 2, got 1)",
     "output_type": "error",
     "traceback": [
      "\u001b[1;31m---------------------------------------------------------------------------\u001b[0m",
      "\u001b[1;31mValueError\u001b[0m                                Traceback (most recent call last)",
      "Cell \u001b[1;32mIn[95], line 13\u001b[0m\n\u001b[0;32m      6\u001b[0m Q \u001b[38;5;241m=\u001b[39m {\n\u001b[0;32m      7\u001b[0m     (\u001b[38;5;124m'\u001b[39m\u001b[38;5;124mx0\u001b[39m\u001b[38;5;124m'\u001b[39m, \u001b[38;5;124m'\u001b[39m\u001b[38;5;124mx0\u001b[39m\u001b[38;5;124m'\u001b[39m): \u001b[38;5;241m1\u001b[39m,    \u001b[38;5;66;03m# x0^2 term\u001b[39;00m\n\u001b[0;32m      8\u001b[0m     (\u001b[38;5;124m'\u001b[39m\u001b[38;5;124mx0\u001b[39m\u001b[38;5;124m'\u001b[39m, \u001b[38;5;124m'\u001b[39m\u001b[38;5;124mx1\u001b[39m\u001b[38;5;124m'\u001b[39m): \u001b[38;5;241m1\u001b[39m,    \u001b[38;5;66;03m# x0*x1 term\u001b[39;00m\n\u001b[0;32m      9\u001b[0m     (\u001b[38;5;124m'\u001b[39m\u001b[38;5;124mx1\u001b[39m\u001b[38;5;124m'\u001b[39m, \u001b[38;5;124m'\u001b[39m\u001b[38;5;124mx1\u001b[39m\u001b[38;5;124m'\u001b[39m): \u001b[38;5;241m-\u001b[39m\u001b[38;5;241m2\u001b[39m    \u001b[38;5;66;03m# x1^2 term\u001b[39;00m\n\u001b[0;32m     10\u001b[0m }\n\u001b[0;32m     12\u001b[0m \u001b[38;5;66;03m# Use dimod to define a QUBO model\u001b[39;00m\n\u001b[1;32m---> 13\u001b[0m qubo \u001b[38;5;241m=\u001b[39m \u001b[43mdimod\u001b[49m\u001b[38;5;241;43m.\u001b[39;49m\u001b[43mBinaryQuadraticModel\u001b[49m\u001b[38;5;241;43m.\u001b[39;49m\u001b[43mfrom_qubo\u001b[49m\u001b[43m(\u001b[49m\u001b[43mqubo_from_hubo_matrix\u001b[49m\u001b[43m)\u001b[49m\n\u001b[0;32m     15\u001b[0m \u001b[38;5;66;03m# Solve the QUBO classically using a brute force solver\u001b[39;00m\n\u001b[0;32m     16\u001b[0m class_sampler \u001b[38;5;241m=\u001b[39m dimod\u001b[38;5;241m.\u001b[39mExactSolver()\n",
      "File \u001b[1;32m~\\AppData\\Local\\Packages\\PythonSoftwareFoundation.Python.3.9_qbz5n2kfra8p0\\LocalCache\\local-packages\\Python39\\site-packages\\dimod\\binary\\binary_quadratic_model.py:1460\u001b[0m, in \u001b[0;36mBinaryQuadraticModel.from_qubo\u001b[1;34m(cls, Q, offset)\u001b[0m\n\u001b[0;32m   1443\u001b[0m \u001b[38;5;129m@classmethod\u001b[39m\n\u001b[0;32m   1444\u001b[0m \u001b[38;5;28;01mdef\u001b[39;00m \u001b[38;5;21mfrom_qubo\u001b[39m(\u001b[38;5;28mcls\u001b[39m, Q: Mapping, offset: \u001b[38;5;28mfloat\u001b[39m \u001b[38;5;241m=\u001b[39m \u001b[38;5;241m0\u001b[39m):\n\u001b[0;32m   1445\u001b[0m \u001b[38;5;250m    \u001b[39m\u001b[38;5;124;03m\"\"\"Create a binary quadratic model from a QUBO problem.\u001b[39;00m\n\u001b[0;32m   1446\u001b[0m \n\u001b[0;32m   1447\u001b[0m \u001b[38;5;124;03m    Args:\u001b[39;00m\n\u001b[1;32m   (...)\u001b[0m\n\u001b[0;32m   1458\u001b[0m \n\u001b[0;32m   1459\u001b[0m \u001b[38;5;124;03m    \"\"\"\u001b[39;00m\n\u001b[1;32m-> 1460\u001b[0m     \u001b[38;5;28;01mreturn\u001b[39;00m \u001b[38;5;28;43mcls\u001b[39;49m\u001b[43m(\u001b[49m\u001b[43m{\u001b[49m\u001b[43m}\u001b[49m\u001b[43m,\u001b[49m\u001b[43m \u001b[49m\u001b[43mQ\u001b[49m\u001b[43m,\u001b[49m\u001b[43m \u001b[49m\u001b[43moffset\u001b[49m\u001b[43m,\u001b[49m\u001b[43m \u001b[49m\u001b[43mVartype\u001b[49m\u001b[38;5;241;43m.\u001b[39;49m\u001b[43mBINARY\u001b[49m\u001b[43m)\u001b[49m\n",
      "File \u001b[1;32m~\\AppData\\Local\\Packages\\PythonSoftwareFoundation.Python.3.9_qbz5n2kfra8p0\\LocalCache\\local-packages\\Python39\\site-packages\\dimod\\binary\\binary_quadratic_model.py:205\u001b[0m, in \u001b[0;36mBinaryQuadraticModel.__init__\u001b[1;34m(self, offset, vartype, dtype, *args)\u001b[0m\n\u001b[0;32m    199\u001b[0m     \u001b[38;5;28;01mif\u001b[39;00m offset \u001b[38;5;129;01mis\u001b[39;00m \u001b[38;5;129;01mnot\u001b[39;00m \u001b[38;5;28;01mNone\u001b[39;00m:\n\u001b[0;32m    200\u001b[0m         \u001b[38;5;66;03m# we don't strictly need to fail in this case, we could instead\u001b[39;00m\n\u001b[0;32m    201\u001b[0m         \u001b[38;5;66;03m# add it, but I think this is closer to the normal python behavior\u001b[39;00m\n\u001b[0;32m    202\u001b[0m         \u001b[38;5;66;03m# of failing if an argument is provided twice\u001b[39;00m\n\u001b[0;32m    203\u001b[0m         \u001b[38;5;28;01mraise\u001b[39;00m \u001b[38;5;167;01mTypeError\u001b[39;00m(\u001b[38;5;124m\"\u001b[39m\u001b[38;5;124mBinaryQuadraticModel() got multiple values for \u001b[39m\u001b[38;5;124m'\u001b[39m\u001b[38;5;124moffset\u001b[39m\u001b[38;5;124m'\u001b[39m\u001b[38;5;124m\"\u001b[39m)\n\u001b[1;32m--> 205\u001b[0m     \u001b[38;5;28;43mself\u001b[39;49m\u001b[38;5;241;43m.\u001b[39;49m\u001b[43m_init_components\u001b[49m\u001b[43m(\u001b[49m\u001b[38;5;241;43m*\u001b[39;49m\u001b[43margs\u001b[49m\u001b[43m,\u001b[49m\u001b[43m \u001b[49m\u001b[43mdtype\u001b[49m\u001b[38;5;241;43m=\u001b[39;49m\u001b[43mdtype\u001b[49m\u001b[43m)\u001b[49m\n\u001b[0;32m    206\u001b[0m \u001b[38;5;28;01melse\u001b[39;00m:\n\u001b[0;32m    207\u001b[0m     msg \u001b[38;5;241m=\u001b[39m \u001b[38;5;124m\"\u001b[39m\u001b[38;5;124m__init__() takes 4 positional arguments but \u001b[39m\u001b[38;5;132;01m{}\u001b[39;00m\u001b[38;5;124m were given.\u001b[39m\u001b[38;5;124m\"\u001b[39m\n",
      "File \u001b[1;32m~\\AppData\\Local\\Packages\\PythonSoftwareFoundation.Python.3.9_qbz5n2kfra8p0\\LocalCache\\local-packages\\Python39\\site-packages\\dimod\\binary\\binary_quadratic_model.py:233\u001b[0m, in \u001b[0;36mBinaryQuadraticModel._init_components\u001b[1;34m(self, linear, quadratic, offset, vartype, dtype)\u001b[0m\n\u001b[0;32m    230\u001b[0m \u001b[38;5;28;01mif\u001b[39;00m \u001b[38;5;28misinstance\u001b[39m(quadratic, abc\u001b[38;5;241m.\u001b[39mMapping):\n\u001b[0;32m    231\u001b[0m     quadratic \u001b[38;5;241m=\u001b[39m ((u, v, b) \u001b[38;5;28;01mfor\u001b[39;00m (u, v), b \u001b[38;5;129;01min\u001b[39;00m quadratic\u001b[38;5;241m.\u001b[39mitems())\n\u001b[1;32m--> 233\u001b[0m \u001b[38;5;28;01mfor\u001b[39;00m u, v, bias \u001b[38;5;129;01min\u001b[39;00m quadratic:\n\u001b[0;32m    234\u001b[0m     \u001b[38;5;28;01mif\u001b[39;00m u \u001b[38;5;241m==\u001b[39m v:\n\u001b[0;32m    235\u001b[0m         \u001b[38;5;28;01mif\u001b[39;00m vartype \u001b[38;5;129;01mis\u001b[39;00m Vartype\u001b[38;5;241m.\u001b[39mBINARY:\n",
      "File \u001b[1;32m~\\AppData\\Local\\Packages\\PythonSoftwareFoundation.Python.3.9_qbz5n2kfra8p0\\LocalCache\\local-packages\\Python39\\site-packages\\dimod\\binary\\binary_quadratic_model.py:231\u001b[0m, in \u001b[0;36m<genexpr>\u001b[1;34m(.0)\u001b[0m\n\u001b[0;32m    229\u001b[0m \u001b[38;5;28;01mif\u001b[39;00m \u001b[38;5;28misinstance\u001b[39m(quadratic, (abc\u001b[38;5;241m.\u001b[39mMapping, abc\u001b[38;5;241m.\u001b[39mIterator)):\n\u001b[0;32m    230\u001b[0m     \u001b[38;5;28;01mif\u001b[39;00m \u001b[38;5;28misinstance\u001b[39m(quadratic, abc\u001b[38;5;241m.\u001b[39mMapping):\n\u001b[1;32m--> 231\u001b[0m         quadratic \u001b[38;5;241m=\u001b[39m ((u, v, b) \u001b[38;5;28;01mfor\u001b[39;00m (u, v), b \u001b[38;5;129;01min\u001b[39;00m quadratic\u001b[38;5;241m.\u001b[39mitems())\n\u001b[0;32m    233\u001b[0m     \u001b[38;5;28;01mfor\u001b[39;00m u, v, bias \u001b[38;5;129;01min\u001b[39;00m quadratic:\n\u001b[0;32m    234\u001b[0m         \u001b[38;5;28;01mif\u001b[39;00m u \u001b[38;5;241m==\u001b[39m v:\n",
      "\u001b[1;31mValueError\u001b[0m: not enough values to unpack (expected 2, got 1)"
     ]
    }
   ],
   "source": [
    "import numpy as np\n",
    "import dimod\n",
    "\n",
    "# Define the QUBO matrix\n",
    "# Example QUBO matrix for the problem: minimize x0^2 + x0*x1 - 2*x1^2\n",
    "Q = {\n",
    "    ('x0', 'x0'): 1,    # x0^2 term\n",
    "    ('x0', 'x1'): 1,    # x0*x1 term\n",
    "    ('x1', 'x1'): -2    # x1^2 term\n",
    "}\n",
    "\n",
    "# Use dimod to define a QUBO model\n",
    "qubo = dimod.BinaryQuadraticModel.from_qubo(qubo_from_hubo_pen)\n",
    "\n",
    "# Solve the QUBO classically using a brute force solver\n",
    "class_sampler = dimod.ExactSolver()\n",
    "class_solution = class_sampler.sample(qubo)\n",
    "\n",
    "# Extract the results\n",
    "print(\"Solutions:\")\n",
    "for sample, energy in solution.data(['sample', 'energy']):\n",
    "    print(f\"Sample: {class_sampler}, Energy: {energy}\")\n",
    "\n",
    "# Find the optimal solution\n",
    "optimal_class_sampler = solution.first.sample\n",
    "optimal_class_energy = solution.first.energy\n",
    "print(f\"\\nOptimal Solution: {optimal_class_sampler}, Energy: {optimal_energy}\")\n",
    "optimal_class_energy"
   ]
  },
  {
   "cell_type": "markdown",
   "metadata": {},
   "source": [
    "## Quantum solution via D-wave interface"
   ]
  },
  {
   "cell_type": "code",
   "execution_count": 33,
   "metadata": {},
   "outputs": [
    {
     "ename": "ValueError",
     "evalue": "API token not defined",
     "output_type": "error",
     "traceback": [
      "\u001b[1;31m---------------------------------------------------------------------------\u001b[0m",
      "\u001b[1;31mValueError\u001b[0m                                Traceback (most recent call last)",
      "Cell \u001b[1;32mIn[33], line 3\u001b[0m\n\u001b[0;32m      1\u001b[0m \u001b[38;5;28;01mfrom\u001b[39;00m \u001b[38;5;21;01mdwave\u001b[39;00m\u001b[38;5;21;01m.\u001b[39;00m\u001b[38;5;21;01msystem\u001b[39;00m \u001b[38;5;28;01mimport\u001b[39;00m DWaveSampler, EmbeddingComposite\n\u001b[1;32m----> 3\u001b[0m quantum_sampler \u001b[38;5;241m=\u001b[39m \u001b[43mDWaveSampler\u001b[49m\u001b[43m(\u001b[49m\u001b[43msolver\u001b[49m\u001b[38;5;241;43m=\u001b[39;49m\u001b[43m{\u001b[49m\u001b[38;5;124;43m'\u001b[39;49m\u001b[38;5;124;43mqpu\u001b[39;49m\u001b[38;5;124;43m'\u001b[39;49m\u001b[43m:\u001b[49m\u001b[43m \u001b[49m\u001b[38;5;28;43;01mTrue\u001b[39;49;00m\u001b[43m}\u001b[49m\u001b[43m)\u001b[49m  \u001b[38;5;66;03m# Use a real QPU solver\u001b[39;00m\n\u001b[0;32m      4\u001b[0m composite_quatum_sampler \u001b[38;5;241m=\u001b[39m EmbeddingComposite(quantum_sampler)  \u001b[38;5;66;03m# Embedding to QPU\u001b[39;00m\n\u001b[0;32m      6\u001b[0m sampler \u001b[38;5;241m=\u001b[39m EmbeddingComposite(DWaveSampler(token\u001b[38;5;241m=\u001b[39m\u001b[38;5;124m'\u001b[39m\u001b[38;5;124mDEV-19676b6aea481ee3dcec55055b81db900d5c6544\u001b[39m\u001b[38;5;124m'\u001b[39m, solver\u001b[38;5;241m=\u001b[39m{\u001b[38;5;124m'\u001b[39m\u001b[38;5;124mqpu\u001b[39m\u001b[38;5;124m'\u001b[39m: \u001b[38;5;28;01mTrue\u001b[39;00m}))\n",
      "File \u001b[1;32m~\\AppData\\Local\\Packages\\PythonSoftwareFoundation.Python.3.9_qbz5n2kfra8p0\\LocalCache\\local-packages\\Python39\\site-packages\\dwave\\system\\samplers\\dwave_sampler.py:180\u001b[0m, in \u001b[0;36mDWaveSampler.__init__\u001b[1;34m(self, failover, retry_interval, **config)\u001b[0m\n\u001b[0;32m    177\u001b[0m \u001b[38;5;28mself\u001b[39m\u001b[38;5;241m.\u001b[39mretry_interval \u001b[38;5;241m=\u001b[39m retry_interval\n\u001b[0;32m    178\u001b[0m \u001b[38;5;28mself\u001b[39m\u001b[38;5;241m.\u001b[39m_solver_penalty \u001b[38;5;241m=\u001b[39m defaultdict(\u001b[38;5;28mint\u001b[39m)\n\u001b[1;32m--> 180\u001b[0m \u001b[38;5;28mself\u001b[39m\u001b[38;5;241m.\u001b[39mclient \u001b[38;5;241m=\u001b[39m Client\u001b[38;5;241m.\u001b[39mfrom_config(\u001b[38;5;241m*\u001b[39m\u001b[38;5;241m*\u001b[39mconfig)\n\u001b[0;32m    181\u001b[0m \u001b[38;5;28mself\u001b[39m\u001b[38;5;241m.\u001b[39msolver \u001b[38;5;241m=\u001b[39m \u001b[38;5;28mself\u001b[39m\u001b[38;5;241m.\u001b[39m_get_solver(penalty\u001b[38;5;241m=\u001b[39m\u001b[38;5;28mself\u001b[39m\u001b[38;5;241m.\u001b[39m_solver_penalty)\n",
      "File \u001b[1;32m~\\AppData\\Local\\Packages\\PythonSoftwareFoundation.Python.3.9_qbz5n2kfra8p0\\LocalCache\\local-packages\\Python39\\site-packages\\dwave\\cloud\\client\\base.py:436\u001b[0m, in \u001b[0;36mClient.from_config\u001b[1;34m(cls, config_file, profile, client, **kwargs)\u001b[0m\n\u001b[0;32m    433\u001b[0m _client \u001b[38;5;241m=\u001b[39m config\u001b[38;5;241m.\u001b[39mpop(\u001b[38;5;124m'\u001b[39m\u001b[38;5;124mclient\u001b[39m\u001b[38;5;124m'\u001b[39m, \u001b[38;5;28;01mNone\u001b[39;00m) \u001b[38;5;129;01mor\u001b[39;00m \u001b[38;5;124m'\u001b[39m\u001b[38;5;124mbase\u001b[39m\u001b[38;5;124m'\u001b[39m\n\u001b[0;32m    435\u001b[0m logger\u001b[38;5;241m.\u001b[39mdebug(\u001b[38;5;124m\"\u001b[39m\u001b[38;5;124mCreating \u001b[39m\u001b[38;5;132;01m%s\u001b[39;00m\u001b[38;5;124m.Client() with: \u001b[39m\u001b[38;5;132;01m%r\u001b[39;00m\u001b[38;5;124m\"\u001b[39m, _client, config)\n\u001b[1;32m--> 436\u001b[0m \u001b[38;5;28;01mreturn\u001b[39;00m _clients[_client](\u001b[38;5;241m*\u001b[39m\u001b[38;5;241m*\u001b[39mconfig)\n",
      "File \u001b[1;32m~\\AppData\\Local\\Packages\\PythonSoftwareFoundation.Python.3.9_qbz5n2kfra8p0\\LocalCache\\local-packages\\Python39\\site-packages\\dwave\\cloud\\events.py:109\u001b[0m, in \u001b[0;36mdispatches_events.__call__.<locals>.wrapped\u001b[1;34m(*pargs, **kwargs)\u001b[0m\n\u001b[0;32m    104\u001b[0m \u001b[38;5;129m@wraps\u001b[39m(fn)\n\u001b[0;32m    105\u001b[0m \u001b[38;5;28;01mdef\u001b[39;00m \u001b[38;5;21mwrapped\u001b[39m(\u001b[38;5;241m*\u001b[39mpargs, \u001b[38;5;241m*\u001b[39m\u001b[38;5;241m*\u001b[39mkwargs):\n\u001b[0;32m    106\u001b[0m     \u001b[38;5;28;01mif\u001b[39;00m \u001b[38;5;129;01mnot\u001b[39;00m (has_handler(\u001b[38;5;28mself\u001b[39m\u001b[38;5;241m.\u001b[39mbefore_eventname) \u001b[38;5;129;01mor\u001b[39;00m\n\u001b[0;32m    107\u001b[0m             has_handler(\u001b[38;5;28mself\u001b[39m\u001b[38;5;241m.\u001b[39mafter_eventname)):\n\u001b[0;32m    108\u001b[0m         \u001b[38;5;66;03m# skip dispatch altogether\u001b[39;00m\n\u001b[1;32m--> 109\u001b[0m         \u001b[38;5;28;01mreturn\u001b[39;00m fn(\u001b[38;5;241m*\u001b[39mpargs, \u001b[38;5;241m*\u001b[39m\u001b[38;5;241m*\u001b[39mkwargs)\n\u001b[0;32m    111\u001b[0m     sig \u001b[38;5;241m=\u001b[39m inspect\u001b[38;5;241m.\u001b[39msignature(fn)\n\u001b[0;32m    112\u001b[0m     bound \u001b[38;5;241m=\u001b[39m sig\u001b[38;5;241m.\u001b[39mbind(\u001b[38;5;241m*\u001b[39mpargs, \u001b[38;5;241m*\u001b[39m\u001b[38;5;241m*\u001b[39mkwargs)\n",
      "File \u001b[1;32m~\\AppData\\Local\\Packages\\PythonSoftwareFoundation.Python.3.9_qbz5n2kfra8p0\\LocalCache\\local-packages\\Python39\\site-packages\\dwave\\cloud\\client\\base.py:467\u001b[0m, in \u001b[0;36mClient.__init__\u001b[1;34m(self, **kwargs)\u001b[0m\n\u001b[0;32m    464\u001b[0m     \u001b[38;5;28;01mraise\u001b[39;00m \u001b[38;5;167;01mValueError\u001b[39;00m(\u001b[38;5;124m\"\u001b[39m\u001b[38;5;124mAPI endpoint not defined\u001b[39m\u001b[38;5;124m\"\u001b[39m)\n\u001b[0;32m    466\u001b[0m \u001b[38;5;28;01mif\u001b[39;00m \u001b[38;5;129;01mnot\u001b[39;00m \u001b[38;5;28mself\u001b[39m\u001b[38;5;241m.\u001b[39mconfig\u001b[38;5;241m.\u001b[39mtoken:\n\u001b[1;32m--> 467\u001b[0m     \u001b[38;5;28;01mraise\u001b[39;00m \u001b[38;5;167;01mValueError\u001b[39;00m(\u001b[38;5;124m\"\u001b[39m\u001b[38;5;124mAPI token not defined\u001b[39m\u001b[38;5;124m\"\u001b[39m)\n\u001b[0;32m    469\u001b[0m \u001b[38;5;66;03m# Create session for main thread only\u001b[39;00m\n\u001b[0;32m    470\u001b[0m \u001b[38;5;28mself\u001b[39m\u001b[38;5;241m.\u001b[39msession \u001b[38;5;241m=\u001b[39m \u001b[38;5;28mself\u001b[39m\u001b[38;5;241m.\u001b[39mcreate_session()\n",
      "\u001b[1;31mValueError\u001b[0m: API token not defined"
     ]
    }
   ],
   "source": [
    "from dwave.system import DWaveSampler, EmbeddingComposite\n",
    "\n",
    "quantum_sampler = DWaveSampler(solver={'qpu': True})  # Use a real QPU solver\n",
    "composite_quatum_sampler = EmbeddingComposite(quantum_sampler)  # Embedding to QPU\n",
    "\n",
    "sampler = EmbeddingComposite(DWaveSampler(token='DEV-19676b6aea481ee3dcec55055b81db900d5c6544', solver={'qpu': True}))\n",
    "\n",
    "# Sample the QUBO using the D-Wave solver\n",
    "response = sampler.sample(bqm, num_reads=100)\n",
    "\n",
    "# Print the solution with lowest energy\n",
    "print(\"Solution with lowest energy:\", response.first.sample)\n",
    "print(\"Energy of the solution:\", response.first.energy)"
   ]
  },
  {
   "cell_type": "code",
   "execution_count": null,
   "metadata": {},
   "outputs": [],
   "source": []
  },
  {
   "cell_type": "markdown",
   "metadata": {},
   "source": []
  },
  {
   "cell_type": "code",
   "execution_count": 96,
   "metadata": {},
   "outputs": [
    {
     "name": "stdout",
     "output_type": "stream",
     "text": [
      "Converted QUBO Matrix:\n",
      "[[ 0.00000000e+00 -3.93672259e+00 -3.29542165e+00 -1.00000000e+03\n",
      "   0.00000000e+00]\n",
      " [-6.41300943e-01  0.00000000e+00 -3.29542165e+00 -1.00000000e+03\n",
      "   0.00000000e+00]\n",
      " [ 0.00000000e+00  0.00000000e+00  0.00000000e+00 -1.00000000e+03\n",
      "   0.00000000e+00]\n",
      " [-1.00000000e+03 -1.00000000e+03 -1.00000000e+03  1.00000000e+03\n",
      "   0.00000000e+00]\n",
      " [ 0.00000000e+00  0.00000000e+00  0.00000000e+00  0.00000000e+00\n",
      "   0.00000000e+00]]\n"
     ]
    }
   ],
   "source": [
    "import numpy as np\n",
    "\n",
    "def generate_qubo_from_hubo(hubo, num_variables):\n",
    "    \"\"\"\n",
    "    Convert a HUBO matrix (stored as a dictionary of terms) into a QUBO matrix.\n",
    "\n",
    "    Args:\n",
    "    - hubo (dict): The HUBO problem, with variable indices as keys and coefficients as values.\n",
    "    - num_variables (int): The number of binary variables.\n",
    "\n",
    "    Returns:\n",
    "    - Q (numpy.ndarray): The resulting QUBO matrix.\n",
    "    \"\"\"\n",
    "    # Initialize QUBO matrix\n",
    "    Q = np.zeros((num_variables, num_variables))  \n",
    "    aux_var_index = num_variables  # Start index for auxiliary variables\n",
    "\n",
    "    for variables, coeff in hubo.items():\n",
    "        order = len(variables)\n",
    "\n",
    "        if order == 2:  # Quadratic term\n",
    "            i, j = variables\n",
    "            Q[i, j] += coeff\n",
    "            Q[j, i] += coeff  # Symmetric matrix\n",
    "\n",
    "        elif order == 3:  # Cubic term\n",
    "            i, j, k = variables\n",
    "            z_ijk = aux_var_index\n",
    "            aux_var_index += 1\n",
    "\n",
    "            # Resize the QUBO matrix to accommodate the auxiliary variable\n",
    "            if aux_var_index >= Q.shape[0]:\n",
    "                Q = np.resize(Q, (aux_var_index + 1, aux_var_index + 1))\n",
    "\n",
    "            # Add penalty terms for cubic interaction\n",
    "            penalty_coeff = 1e3  # Penalty coefficient\n",
    "            Q = add_penalty_terms(Q, z_ijk, [i, j, k], penalty_coeff, cubic=True)\n",
    "            Q[i, j] += coeff * z_ijk\n",
    "            Q[j, k] += coeff * z_ijk\n",
    "            Q[i, k] += coeff * z_ijk\n",
    "\n",
    "        elif order == 4:  # Quartic term\n",
    "            i, j, k, l = variables\n",
    "            w_ijkl = aux_var_index\n",
    "            aux_var_index += 1\n",
    "\n",
    "            # Resize the QUBO matrix to accommodate the auxiliary variable\n",
    "            if aux_var_index >= Q.shape[0]:\n",
    "                Q = np.resize(Q, (aux_var_index + 1, aux_var_index + 1))\n",
    "\n",
    "            # Add penalty terms for quartic interaction\n",
    "            penalty_coeff = 1e3  # Penalty coefficient\n",
    "            Q = add_penalty_terms(Q, w_ijkl, [i, j, k, l], penalty_coeff, cubic=False)\n",
    "            Q[i, j] += coeff * w_ijkl\n",
    "            Q[j, k] += coeff * w_ijkl\n",
    "            Q[k, l] += coeff * w_ijkl\n",
    "            Q[i, l] += coeff * w_ijkl\n",
    "\n",
    "    return Q\n",
    "\n",
    "def add_penalty_terms(Q, aux_var, vars, penalty_coeff, cubic=True):\n",
    "    \"\"\"\n",
    "    Add penalty terms to the QUBO matrix for enforcing higher-order terms (cubic or quartic).\n",
    "\n",
    "    Args:\n",
    "    - Q: The QUBO matrix.\n",
    "    - aux_var: The index of the auxiliary variable.\n",
    "    - vars: The indices of the variables involved in the interaction.\n",
    "    - penalty_coeff: The penalty coefficient.\n",
    "    - cubic: Whether the penalty is for cubic (True) or quartic (False).\n",
    "\n",
    "    Returns:\n",
    "    - Updated QUBO matrix.\n",
    "    \"\"\"\n",
    "    if cubic:\n",
    "        # For cubic terms, introduce quadratic penalties\n",
    "        Q[aux_var, aux_var] = penalty_coeff\n",
    "        for v in vars:\n",
    "            Q[aux_var, v] = -penalty_coeff\n",
    "            Q[v, aux_var] = -penalty_coeff\n",
    "    else:\n",
    "        # For quartic terms, introduce quadratic penalties\n",
    "        Q[aux_var, aux_var] = penalty_coeff\n",
    "        for v in vars:\n",
    "            Q[aux_var, v] = -penalty_coeff\n",
    "            Q[v, aux_var] = -penalty_coeff\n",
    "\n",
    "    return Q\n",
    "\n",
    "\n",
    "\n",
    "# Convert HUBO problem to QUBO matrix\n",
    "qubo_matrix = generate_qubo_from_hubo(rand_hubo_problem, num_variables)\n",
    "\n",
    "# Print the QUBO matrix\n",
    "print(\"Converted QUBO Matrix:\")\n",
    "print(qubo_matrix)\n"
   ]
  },
  {
   "cell_type": "code",
   "execution_count": 97,
   "metadata": {},
   "outputs": [
    {
     "data": {
      "text/plain": [
       "{(0, 1, 2): -1.0984738823470686,\n",
       " (0, 1): -0.641300943125584,\n",
       " (1,): 1.0699470414898489}"
      ]
     },
     "execution_count": 97,
     "metadata": {},
     "output_type": "execute_result"
    }
   ],
   "source": [
    "rand_hubo_problem"
   ]
  },
  {
   "cell_type": "code",
   "execution_count": 118,
   "metadata": {},
   "outputs": [
    {
     "name": "stdout",
     "output_type": "stream",
     "text": [
      "Converted QUBO Matrix:\n",
      "[[ 0.00000000e+00 -3.93672259e+00 -3.29542165e+00 -1.00000000e+03\n",
      "   0.00000000e+00]\n",
      " [-6.41300943e-01  1.06994704e+00 -3.29542165e+00 -1.00000000e+03\n",
      "   0.00000000e+00]\n",
      " [ 0.00000000e+00  0.00000000e+00  0.00000000e+00 -1.00000000e+03\n",
      "   0.00000000e+00]\n",
      " [-1.00000000e+03 -1.00000000e+03 -1.00000000e+03  1.00000000e+03\n",
      "   0.00000000e+00]\n",
      " [ 0.00000000e+00  0.00000000e+00  0.00000000e+00  0.00000000e+00\n",
      "   0.00000000e+00]]\n"
     ]
    }
   ],
   "source": [
    "import numpy as np\n",
    "\n",
    "def map_hubo_to_qubo(hubo, num_variables):\n",
    "    \"\"\"\n",
    "    Map a HUBO problem with higher-order terms to a QUBO problem.\n",
    "    \n",
    "    Args:\n",
    "    - hubo (dict): HUBO problem with higher-order terms as key-value pairs.\n",
    "    - num_variables (int): Number of binary variables in the HUBO problem.\n",
    "    \n",
    "    Returns:\n",
    "    - qubo_matrix (numpy.ndarray): The resulting QUBO matrix.\n",
    "    \"\"\"\n",
    "    # Initialize QUBO matrix\n",
    "    qubo_matrix = np.zeros((num_variables, num_variables))\n",
    "    \n",
    "    aux_var_index = num_variables  # Start index for auxiliary variables\n",
    "    \n",
    "    for variables, coeff in hubo.items():\n",
    "        order = len(variables)\n",
    "        \n",
    "        if order == 1:  # Linear terms\n",
    "            i = variables[0]\n",
    "            qubo_matrix[i, i] += coeff\n",
    "            \n",
    "        elif order == 2:  # Quadratic terms\n",
    "            i, j = variables\n",
    "            qubo_matrix[i, j] += coeff\n",
    "            qubo_matrix[j, i] += coeff  # Symmetric matrix\n",
    "            \n",
    "        elif order == 3:  # Cubic terms\n",
    "            i, j, k = variables\n",
    "            z_ijk = aux_var_index\n",
    "            aux_var_index += 1\n",
    "\n",
    "            # Resize the QUBO matrix to accommodate the auxiliary variable\n",
    "            if aux_var_index >= qubo_matrix.shape[0]:\n",
    "                qubo_matrix = np.resize(qubo_matrix, (aux_var_index + 1, aux_var_index + 1))\n",
    "            \n",
    "            # Add penalty terms for cubic interaction\n",
    "            penalty_coeff = 1e3  # Penalty coefficient\n",
    "            qubo_matrix = add_penalty_terms(qubo_matrix, z_ijk, [i, j, k], penalty_coeff, cubic=True)\n",
    "            \n",
    "            # Update QUBO matrix for cubic term\n",
    "            qubo_matrix[i, j] += coeff * z_ijk\n",
    "            qubo_matrix[j, k] += coeff * z_ijk\n",
    "            qubo_matrix[i, k] += coeff * z_ijk\n",
    "            \n",
    "        # Additional cases can be added for quartic terms or higher-order terms.\n",
    "    \n",
    "    return qubo_matrix\n",
    "\n",
    "def add_penalty_terms(Q, aux_var, vars, penalty_coeff, cubic=True):\n",
    "    \"\"\"\n",
    "    Add penalty terms to the QUBO matrix for enforcing higher-order terms (cubic or quartic).\n",
    "    \n",
    "    Args:\n",
    "    - Q: The QUBO matrix.\n",
    "    - aux_var: The index of the auxiliary variable.\n",
    "    - vars: The indices of the variables involved in the interaction.\n",
    "    - penalty_coeff: The penalty coefficient.\n",
    "    - cubic: Whether the penalty is for cubic (True) or quartic (False).\n",
    "    \n",
    "    Returns:\n",
    "    - Updated QUBO matrix.\n",
    "    \"\"\"\n",
    "    if cubic:\n",
    "        # For cubic terms, introduce quadratic penalties\n",
    "        Q[aux_var, aux_var] = penalty_coeff\n",
    "        for v in vars:\n",
    "            Q[aux_var, v] = -penalty_coeff\n",
    "            Q[v, aux_var] = -penalty_coeff\n",
    "    else:\n",
    "        # For quartic terms, introduce quadratic penalties\n",
    "        Q[aux_var, aux_var] = penalty_coeff\n",
    "        for v in vars:\n",
    "            Q[aux_var, v] = -penalty_coeff\n",
    "            Q[v, aux_var] = -penalty_coeff\n",
    "\n",
    "    return Q\n",
    "\n",
    "# Number of binary variables\n",
    "num_variables = 3\n",
    "\n",
    "# Convert HUBO problem to QUBO matrix\n",
    "qubo_matrix = map_hubo_to_qubo(rand_hubo_problem, num_variables)\n",
    "\n",
    "# Print the resulting QUBO matrix\n",
    "print(\"Converted QUBO Matrix:\")\n",
    "print(qubo_matrix)\n"
   ]
  },
  {
   "cell_type": "code",
   "execution_count": 99,
   "metadata": {},
   "outputs": [
    {
     "name": "stdout",
     "output_type": "stream",
     "text": [
      "{(0, 0): 0.0, (0, 1): -3.9367225901667897, (0, 2): -3.2954216470412057, (0, 3): -1000.0, (0, 4): 0.0, (1, 1): 1.0699470414898489, (1, 2): -3.2954216470412057, (1, 3): -1000.0, (1, 4): 0.0, (2, 2): 0.0, (2, 3): -1000.0, (2, 4): 0.0, (3, 3): 1000.0, (3, 4): 0.0, (4, 4): 0.0}\n"
     ]
    }
   ],
   "source": [
    "upper_triangle_dict = {(i, j): qubo_matrix[i][j] \n",
    "                       for i in range(len(qubo_matrix)) \n",
    "                       for j in range(i, len(qubo_matrix[i]))}  # Only for j >= i\n",
    "\n",
    "print(upper_triangle_dict)\n"
   ]
  },
  {
   "cell_type": "code",
   "execution_count": 130,
   "metadata": {},
   "outputs": [
    {
     "name": "stdout",
     "output_type": "stream",
     "text": [
      "{(0, 0): 0.0, (0, 1): -3.9367225901667897, (0, 2): -3.2954216470412057, (0, 3): -1000.0, (0, 4): 0.0, (1, 1): 1.0699470414898489, (1, 2): -3.2954216470412057, (1, 3): -1000.0, (1, 4): 0.0, (2, 2): 0.0, (2, 3): -1000.0, (2, 4): 0.0, (3, 3): 1000.0, (3, 4): 0.0, (4, 4): 0.0, (0, <class 'numpy.ndarray'>): 0.0, (1, <class 'numpy.ndarray'>): 1.0699470414898489, (2, <class 'numpy.ndarray'>): 0.0, (3, <class 'numpy.ndarray'>): 1000.0, (4, <class 'numpy.ndarray'>): 0.0, (0,): 0.0, (1,): 1.0699470414898489, (2,): 0.0, (3,): 1000.0, (4,): 0.0, 0: 0.0, 1: 1.0699470414898489, 2: 0.0, 3: 1000.0, 4: 0.0}\n"
     ]
    }
   ],
   "source": [
    "for i in range(len(qubo_matrix)):\n",
    "    for j in range(i, len(qubo_matrix[i])):\n",
    "        if i == j:\n",
    "            upper_triangle_dict.update({(i): qubo_matrix[i][j]})  \n",
    "        else: \n",
    "            upper_triangle_dict.update({(i, j): qubo_matrix[i][j]})  # Only for j >= i\n",
    "\n",
    "print(upper_triangle_dict)"
   ]
  },
  {
   "cell_type": "code",
   "execution_count": 134,
   "metadata": {},
   "outputs": [
    {
     "data": {
      "text/plain": [
       "True"
      ]
     },
     "execution_count": 134,
     "metadata": {},
     "output_type": "execute_result"
    }
   ],
   "source": [
    "list(upper_triangle_dict.keys())[0][0] == list(upper_triangle_dict.keys())[0][1]"
   ]
  },
  {
   "cell_type": "code",
   "execution_count": 102,
   "metadata": {},
   "outputs": [
    {
     "name": "stdout",
     "output_type": "stream",
     "text": [
      "Solutions:\n",
      "Sample: <dimod.reference.samplers.exact_solver.ExactSolver object at 0x00000294CBB57970>, Energy: -0.6698277839828037\n",
      "Sample: <dimod.reference.samplers.exact_solver.ExactSolver object at 0x00000294CBB57970>, Energy: 0.0\n",
      "Sample: <dimod.reference.samplers.exact_solver.ExactSolver object at 0x00000294CBB57970>, Energy: 0.0\n",
      "Sample: <dimod.reference.samplers.exact_solver.ExactSolver object at 0x00000294CBB57970>, Energy: 0.0\n",
      "Sample: <dimod.reference.samplers.exact_solver.ExactSolver object at 0x00000294CBB57970>, Energy: 0.0\n",
      "Sample: <dimod.reference.samplers.exact_solver.ExactSolver object at 0x00000294CBB57970>, Energy: 0.4286460983642648\n",
      "Sample: <dimod.reference.samplers.exact_solver.ExactSolver object at 0x00000294CBB57970>, Energy: 1.0699470414898489\n",
      "Sample: <dimod.reference.samplers.exact_solver.ExactSolver object at 0x00000294CBB57970>, Energy: 1.0699470414898489\n"
     ]
    }
   ],
   "source": [
    "import numpy as np\n",
    "import dimod\n",
    "\n",
    "# Define the QUBO matrix\n",
    "# Example QUBO matrix for the problem: minimize x0^2 + x0*x1 - 2*x1^2\n",
    "Q = {\n",
    "    ('x0', 'x0'): 1,    # x0^2 term\n",
    "    ('x0', 'x1'): 1,    # x0*x1 term\n",
    "    ('x1', 'x1'): -2    # x1^2 term\n",
    "}\n",
    "\n",
    "# Use dimod to define a QUBO model\n",
    "qubo = dimod.BinaryQuadraticModel.from_qubo(upper_triangle_dict)\n",
    "\n",
    "# Solve the QUBO classically using a brute force solver\n",
    "class_sampler = dimod.ExactSolver()\n",
    "class_solution = class_sampler.sample(qubo)\n",
    "\n",
    "# Extract the results\n",
    "print(\"Solutions:\")\n",
    "for sample, energy in solution.data(['sample', 'energy']):\n",
    "    print(f\"Sample: {class_sampler}, Energy: {energy}\")\n",
    "\n",
    "# Find the optimal solution\n",
    "optimal_class_sampler = solution.first.sample\n",
    "optimal_class_energy = solution.first.energy\n",
    "\n"
   ]
  },
  {
   "cell_type": "code",
   "execution_count": 54,
   "metadata": {},
   "outputs": [
    {
     "data": {
      "text/plain": [
       "{(0, 3): -0.3661579607823562,\n",
       " (1, 3): -0.3661579607823562,\n",
       " (2, 3): -0.3661579607823562,\n",
       " (3, 3): 1.0984738823470686,\n",
       " (0, 1): -0.641300943125584,\n",
       " (1,): 1.0699470414898489}"
      ]
     },
     "execution_count": 54,
     "metadata": {},
     "output_type": "execute_result"
    }
   ],
   "source": [
    "qubo_from_hubo_pen"
   ]
  },
  {
   "cell_type": "code",
   "execution_count": 120,
   "metadata": {},
   "outputs": [
    {
     "data": {
      "text/plain": [
       "numpy.ndarray"
      ]
     },
     "execution_count": 120,
     "metadata": {},
     "output_type": "execute_result"
    }
   ],
   "source": [
    "type(qubo_matrix)"
   ]
  },
  {
   "cell_type": "markdown",
   "metadata": {},
   "source": []
  },
  {
   "cell_type": "markdown",
   "metadata": {},
   "source": [
    "l"
   ]
  },
  {
   "cell_type": "markdown",
   "metadata": {},
   "source": []
  },
  {
   "cell_type": "markdown",
   "metadata": {},
   "source": []
  },
  {
   "cell_type": "code",
   "execution_count": 110,
   "metadata": {},
   "outputs": [
    {
     "name": "stdout",
     "output_type": "stream",
     "text": [
      "Generated HUBO Problem:\n",
      "Term: (0, 1, 2), Coefficient: -1.10\n",
      "Term: (0, 1), Coefficient: -0.64\n",
      "Term: (1,), Coefficient: 1.07\n"
     ]
    }
   ],
   "source": [
    "import numpy as np\n",
    "from qiskit_optimization import QuadraticProgram\n",
    "\n",
    "def convert_hubo_to_qubo(hubo, num_variables):\n",
    "    # Create a QUBO (QuadraticProgram) object\n",
    "    qp = QuadraticProgram()\n",
    "\n",
    "    # Add binary variables to the QUBO problem\n",
    "    for i in range(num_variables):\n",
    "        qp.binary_var(name=f'x{i}')\n",
    "\n",
    "    # Create linear and quadratic terms\n",
    "    linear_terms = {}\n",
    "    quadratic_terms = {}\n",
    "\n",
    "    qp_lin = {}\n",
    "    qp_quad = {}\n",
    "\n",
    "    for term, coeff in hubo.items():\n",
    "        if len(term) == 1:  # Linear term (single variable)\n",
    "            linear_terms[term[0]] = linear_terms.get(term[0], 0) + coeff\n",
    "        elif len(term) == 2:  # Quadratic term (pair of variables)\n",
    "            i, j = term\n",
    "            quadratic_terms[(i, j)] = quadratic_terms.get((i, j), 0) + coeff\n",
    "        else:\n",
    "            # Skip higher-order terms (degree > 2)\n",
    "            continue\n",
    "\n",
    "    # Add linear terms to the QUBO\n",
    "    for i, coeff in linear_terms.items():\n",
    "        qp.minimize(qp_lin.update({(i,) : coeff}), qp_quad)\n",
    "\n",
    "    # Add quadratic terms to the QUBO\n",
    "    for (i, j), coeff in quadratic_terms.items():\n",
    "        qp.minimize(qp_lin, qp_quad.update({(i,j) : coeff}))\n",
    "\n",
    "    return qp\n",
    "\n",
    "\n",
    "\n",
    "\n",
    "# Print the generated HUBO problem\n",
    "print(\"Generated HUBO Problem:\")\n",
    "for key, value in rand_hubo_problem.items():\n",
    "    print(f\"Term: {key}, Coefficient: {value:.2f}\")\n",
    "\n",
    "# Convert HUBO to QUBO for Qiskit\n",
    "qubo_problem = convert_hubo_to_qubo(rand_hubo_problem, num_variables)\n",
    "\n"
   ]
  },
  {
   "cell_type": "code",
   "execution_count": 112,
   "metadata": {},
   "outputs": [
    {
     "data": {
      "text/plain": [
       "qiskit_optimization.problems.quadratic_program.QuadraticProgram"
      ]
     },
     "execution_count": 112,
     "metadata": {},
     "output_type": "execute_result"
    }
   ],
   "source": [
    "type(qubo_problem)"
   ]
  },
  {
   "cell_type": "code",
   "execution_count": 114,
   "metadata": {},
   "outputs": [
    {
     "data": {
      "text/plain": [
       "BinaryQuadraticModel({0: 0.0, 1: 1.0699470414898489, 2: 0.0, 3: 1000.0, 4: 0.0}, {(1, 0): -3.9367225901667897, (2, 0): -3.2954216470412057, (2, 1): -3.2954216470412057, (3, 0): -1000.0, (3, 1): -1000.0, (3, 2): -1000.0, (4, 0): 0.0, (4, 1): 0.0, (4, 2): 0.0, (4, 3): 0.0}, 0.0, 'BINARY')"
      ]
     },
     "execution_count": 114,
     "metadata": {},
     "output_type": "execute_result"
    }
   ],
   "source": [
    "qubo"
   ]
  },
  {
   "cell_type": "code",
   "execution_count": 113,
   "metadata": {},
   "outputs": [
    {
     "ename": "IndexError",
     "evalue": "tuple index out of range",
     "output_type": "error",
     "traceback": [
      "\u001b[1;31m---------------------------------------------------------------------------\u001b[0m",
      "\u001b[1;31mIndexError\u001b[0m                                Traceback (most recent call last)",
      "Cell \u001b[1;32mIn[113], line 6\u001b[0m\n\u001b[0;32m      4\u001b[0m \u001b[38;5;66;03m# Use the GurobiOptimizer to find the solution\u001b[39;00m\n\u001b[0;32m      5\u001b[0m exact_solver \u001b[38;5;241m=\u001b[39m GurobiOptimizer()\n\u001b[1;32m----> 6\u001b[0m result \u001b[38;5;241m=\u001b[39m \u001b[43mexact_solver\u001b[49m\u001b[38;5;241;43m.\u001b[39;49m\u001b[43msolve\u001b[49m\u001b[43m(\u001b[49m\u001b[43mqubo_problem\u001b[49m\u001b[43m)\u001b[49m\n\u001b[0;32m      8\u001b[0m end_classical \u001b[38;5;241m=\u001b[39m time\u001b[38;5;241m.\u001b[39mtime()\n\u001b[0;32m      9\u001b[0m \u001b[38;5;66;03m# Display the result\u001b[39;00m\n",
      "File \u001b[1;32m~\\AppData\\Local\\Packages\\PythonSoftwareFoundation.Python.3.9_qbz5n2kfra8p0\\LocalCache\\local-packages\\Python39\\site-packages\\qiskit_optimization\\algorithms\\gurobi_optimizer.py:108\u001b[0m, in \u001b[0;36mGurobiOptimizer.solve\u001b[1;34m(self, problem)\u001b[0m\n\u001b[0;32m    105\u001b[0m \u001b[38;5;28;01mimport\u001b[39;00m \u001b[38;5;21;01mgurobipy\u001b[39;00m \u001b[38;5;28;01mas\u001b[39;00m \u001b[38;5;21;01mgp\u001b[39;00m\n\u001b[0;32m    107\u001b[0m \u001b[38;5;66;03m# convert to Gurobi problem\u001b[39;00m\n\u001b[1;32m--> 108\u001b[0m model \u001b[38;5;241m=\u001b[39m \u001b[43mto_gurobipy\u001b[49m\u001b[43m(\u001b[49m\u001b[43mproblem\u001b[49m\u001b[43m)\u001b[49m\n\u001b[0;32m    110\u001b[0m \u001b[38;5;66;03m# set display setting\u001b[39;00m\n\u001b[0;32m    111\u001b[0m \u001b[38;5;28;01mif\u001b[39;00m \u001b[38;5;129;01mnot\u001b[39;00m \u001b[38;5;28mself\u001b[39m\u001b[38;5;241m.\u001b[39mdisp:\n",
      "File \u001b[1;32m~\\AppData\\Local\\Packages\\PythonSoftwareFoundation.Python.3.9_qbz5n2kfra8p0\\LocalCache\\local-packages\\Python39\\site-packages\\qiskit\\utils\\lazy_tester.py:165\u001b[0m, in \u001b[0;36mLazyDependencyManager.require_in_call.<locals>.out\u001b[1;34m(*args, **kwargs)\u001b[0m\n\u001b[0;32m    162\u001b[0m \u001b[38;5;129m@functools\u001b[39m\u001b[38;5;241m.\u001b[39mwraps(function)\n\u001b[0;32m    163\u001b[0m \u001b[38;5;28;01mdef\u001b[39;00m \u001b[38;5;21mout\u001b[39m(\u001b[38;5;241m*\u001b[39margs, \u001b[38;5;241m*\u001b[39m\u001b[38;5;241m*\u001b[39mkwargs):\n\u001b[0;32m    164\u001b[0m     \u001b[38;5;28mself\u001b[39m\u001b[38;5;241m.\u001b[39mrequire_now(feature)\n\u001b[1;32m--> 165\u001b[0m     \u001b[38;5;28;01mreturn\u001b[39;00m function(\u001b[38;5;241m*\u001b[39margs, \u001b[38;5;241m*\u001b[39m\u001b[38;5;241m*\u001b[39mkwargs)\n",
      "File \u001b[1;32m~\\AppData\\Local\\Packages\\PythonSoftwareFoundation.Python.3.9_qbz5n2kfra8p0\\LocalCache\\local-packages\\Python39\\site-packages\\qiskit_optimization\\translators\\gurobipy.py:74\u001b[0m, in \u001b[0;36mto_gurobipy\u001b[1;34m(quadratic_program)\u001b[0m\n\u001b[0;32m     71\u001b[0m         \u001b[38;5;28;01mraise\u001b[39;00m QiskitOptimizationError(\u001b[38;5;124mf\u001b[39m\u001b[38;5;124m\"\u001b[39m\u001b[38;5;124mUnsupported variable type: \u001b[39m\u001b[38;5;132;01m{\u001b[39;00mx\u001b[38;5;241m.\u001b[39mvartype\u001b[38;5;132;01m}\u001b[39;00m\u001b[38;5;124m\"\u001b[39m)\n\u001b[0;32m     73\u001b[0m \u001b[38;5;66;03m# add objective\u001b[39;00m\n\u001b[1;32m---> 74\u001b[0m objective \u001b[38;5;241m=\u001b[39m \u001b[43mQuadExpr\u001b[49m\u001b[43m(\u001b[49m\u001b[43mquadratic_program\u001b[49m\u001b[38;5;241;43m.\u001b[39;49m\u001b[43mobjective\u001b[49m\u001b[38;5;241;43m.\u001b[39;49m\u001b[43mconstant\u001b[49m\u001b[43m)\u001b[49m\n\u001b[0;32m     75\u001b[0m \u001b[38;5;28;01mfor\u001b[39;00m i, v \u001b[38;5;129;01min\u001b[39;00m quadratic_program\u001b[38;5;241m.\u001b[39mobjective\u001b[38;5;241m.\u001b[39mlinear\u001b[38;5;241m.\u001b[39mto_dict()\u001b[38;5;241m.\u001b[39mitems():\n\u001b[0;32m     76\u001b[0m     objective \u001b[38;5;241m+\u001b[39m\u001b[38;5;241m=\u001b[39m v \u001b[38;5;241m*\u001b[39m var[cast(\u001b[38;5;28mint\u001b[39m, i)]\n",
      "File \u001b[1;32msrc\\\\gurobipy\\\\quadexpr.pxi:38\u001b[0m, in \u001b[0;36mgurobipy._core.QuadExpr.__init__\u001b[1;34m()\u001b[0m\n",
      "File \u001b[1;32msrc\\\\gurobipy\\\\linexpr.pxi:45\u001b[0m, in \u001b[0;36mgurobipy._core.LinExpr.__init__\u001b[1;34m()\u001b[0m\n",
      "\u001b[1;31mIndexError\u001b[0m: tuple index out of range"
     ]
    }
   ],
   "source": [
    "from qiskit_optimization.algorithms import GurobiOptimizer\n",
    "\n",
    "start_classical = time.time()\n",
    "# Use the GurobiOptimizer to find the solution\n",
    "exact_solver = GurobiOptimizer()\n",
    "result = exact_solver.solve(qubo_problem)\n",
    "\n",
    "end_classical = time.time()\n",
    "# Display the result\n",
    "\n",
    "print(\"Optimal solution(s):\")\n",
    "solutions = [s for s in result.samples if s.fval == result.fval]\n",
    "for solution in solutions:\n",
    "    print(solution)\n",
    "    \n",
    "print(\"Optimal value:\", result.fval)\n",
    "print(\"Calculated in:\", end_classical - start_classical, \"seconds.\")"
   ]
  },
  {
   "cell_type": "code",
   "execution_count": null,
   "metadata": {},
   "outputs": [],
   "source": []
  }
 ],
 "metadata": {
  "kernelspec": {
   "display_name": "Python 3",
   "language": "python",
   "name": "python3"
  },
  "language_info": {
   "codemirror_mode": {
    "name": "ipython",
    "version": 3
   },
   "file_extension": ".py",
   "mimetype": "text/x-python",
   "name": "python",
   "nbconvert_exporter": "python",
   "pygments_lexer": "ipython3",
   "version": "3.9.13"
  }
 },
 "nbformat": 4,
 "nbformat_minor": 2
}
