{
 "cells": [
  {
   "cell_type": "code",
   "execution_count": 2,
   "metadata": {},
   "outputs": [],
   "source": [
    "import time"
   ]
  },
  {
   "cell_type": "markdown",
   "metadata": {},
   "source": [
    "# Random HUBO generator"
   ]
  },
  {
   "cell_type": "code",
   "execution_count": 3,
   "metadata": {},
   "outputs": [
    {
     "name": "stdout",
     "output_type": "stream",
     "text": [
      "Generated HUBO Problem:\n",
      "Term: (1, 2), Coefficient: -3.41\n",
      "Term: (0, 1, 2), Coefficient: 6.55\n",
      "Term: (0, 1), Coefficient: -9.45\n",
      "Term: (0, 2), Coefficient: -0.93\n",
      "Term: (2,), Coefficient: -1.94\n"
     ]
    }
   ],
   "source": [
    "\n",
    "import numpy as np\n",
    "\n",
    "def generate_random_hubo(num_variables, max_order, num_terms, seed=None):\n",
    "    # Args:\n",
    "    #    num_variables (int): The total number of binary variables in the HUBO problem.\n",
    "    #    max_order (int):  The maximum order (degree) of terms in the HUBO problem. \n",
    "    #    num_terms (int): The number of terms to generate in the HUBO problem.\n",
    "    #    seed (int, optional): Random seed for reproducibility. Defaults to None.\n",
    "\n",
    "    rng = np.random.default_rng(seed)\n",
    "    hubo = {} # Dict to store the HUBO problem\n",
    "\n",
    "    for _ in range(num_terms):\n",
    "        # Randomly choose the order of the term\n",
    "        order = rng.integers(1, max_order + 1)\n",
    "\n",
    "        # Randomly select variable indices for the term\n",
    "        variables = tuple(sorted(rng.choice(num_variables, size=order, replace=False)))\n",
    "\n",
    "        # Randomly generate a coefficient for the term\n",
    "        coefficient = rng.uniform(-10, 10)\n",
    "\n",
    "        # Add the term to the HUBO problem\n",
    "        hubo[variables] = coefficient\n",
    "\n",
    "    # Returns:\n",
    "    #    dict: The generated HUBO problem as a dictionary.\n",
    "    #          Keys are tuples of variable indices, values are coefficients.\n",
    "\n",
    "    return hubo\n",
    "\n",
    "\n",
    "# Example usage\n",
    "num_variables = 3    # Number of binary variables\n",
    "max_order = 3        # Maximum order of terms (here cubic terms) --> If set to 2 we get a QUBO problem!\n",
    "num_terms = 6       # Number of terms in the HUBO\n",
    "seed = 1            # Random seed for reproducibility of terms and coefficients\n",
    "\n",
    "rand_hubo_problem = generate_random_hubo(num_variables, max_order, num_terms, seed)\n",
    "\n",
    "# Print the HUBO problem\n",
    "print(\"Generated HUBO Problem:\")\n",
    "for key, value in rand_hubo_problem.items():\n",
    "    print(f\"Term: {key}, Coefficient: {value:.2f}\")\n",
    "\n",
    "\n"
   ]
  },
  {
   "cell_type": "code",
   "execution_count": 4,
   "metadata": {},
   "outputs": [
    {
     "data": {
      "text/plain": [
       "{(1, 2): -3.4053656700181563,\n",
       " (0, 1, 2): 6.554051876408835,\n",
       " (0, 1): -9.448817735138633,\n",
       " (0, 2): -0.9300422103869703,\n",
       " (2,): -1.9377402710574145}"
      ]
     },
     "execution_count": 4,
     "metadata": {},
     "output_type": "execute_result"
    }
   ],
   "source": [
    "# Print the HUBO problem in its dictionary format\n",
    "rand_hubo_problem"
   ]
  },
  {
   "cell_type": "code",
   "execution_count": 5,
   "metadata": {},
   "outputs": [
    {
     "name": "stdout",
     "output_type": "stream",
     "text": [
      "Converted QUBO Matrix:\n",
      "[[  0.          10.21333789  18.73211342  -6.55405188   0.        ]\n",
      " [-12.85418341   0.          16.25678996  -6.55405188   0.        ]\n",
      " [ -0.93004221   0.          -1.93774027  -6.55405188  -3.40536567]\n",
      " [ -6.55405188  -6.55405188  -6.55405188   6.55405188   0.        ]\n",
      " [  0.           0.           0.          -3.40536567   0.        ]]\n",
      "Converted QUBO dictionary:\n",
      "{(0, 0): 0.0, (0, 1): 10.213337894087871, (0, 2): 18.732113418839532, (0, 3): -6.554051876408835, (0, 4): 0.0, (1, 1): 0.0, (1, 2): 16.256789959208348, (1, 3): -6.554051876408835, (1, 4): 0.0, (2, 2): -1.9377402710574145, (2, 3): -6.554051876408835, (2, 4): -3.4053656700181563, (3, 3): 6.554051876408835, (3, 4): 0.0, (4, 4): 0.0}\n"
     ]
    }
   ],
   "source": [
    "import numpy as np\n",
    "\n",
    "def map_hubo_to_qubo(hubo, num_variables):\n",
    "    \"\"\"\n",
    "    Map a HUBO problem with higher-order terms to a QUBO problem.\n",
    "    \n",
    "    Args:\n",
    "    - hubo (dict): HUBO problem with higher-order terms as key-value pairs.\n",
    "    - num_variables (int): Number of binary variables in the HUBO problem.\n",
    "    \n",
    "    Returns:\n",
    "    - qubo_matrix (numpy.ndarray): The resulting QUBO matrix.\n",
    "    \"\"\"\n",
    "    # Initialize QUBO matrix\n",
    "    qubo_matrix = np.zeros((num_variables, num_variables))\n",
    "    \n",
    "    aux_var_index = num_variables  # Start index for auxiliary variables\n",
    "    \n",
    "    for variables, coeff in hubo.items():\n",
    "        order = len(variables)\n",
    "        \n",
    "        if order == 1:  # Linear terms\n",
    "            i = variables[0]\n",
    "            qubo_matrix[i, i] += coeff\n",
    "            \n",
    "        elif order == 2:  # Quadratic terms\n",
    "            i, j = variables\n",
    "            qubo_matrix[i, j] += coeff\n",
    "            qubo_matrix[j, i] += coeff  # Symmetric matrix\n",
    "            \n",
    "        elif order == 3:  # Cubic terms\n",
    "            i, j, k = variables\n",
    "            z_ijk = aux_var_index\n",
    "            aux_var_index += 1\n",
    "\n",
    "            # Resize the QUBO matrix to accommodate the auxiliary variable\n",
    "            if aux_var_index >= qubo_matrix.shape[0]:\n",
    "                qubo_matrix = np.resize(qubo_matrix, (aux_var_index + 1, aux_var_index + 1))\n",
    "            \n",
    "            # Add penalty terms for cubic interaction\n",
    "            penalty_coeff =  coeff  # Penalty coefficient\n",
    "            qubo_matrix = add_penalty_terms(qubo_matrix, z_ijk, [i, j, k], penalty_coeff, cubic=True)\n",
    "            \n",
    "            # Update QUBO matrix for cubic term\n",
    "            qubo_matrix[i, j] += coeff * z_ijk\n",
    "            qubo_matrix[j, k] += coeff * z_ijk\n",
    "            qubo_matrix[i, k] += coeff * z_ijk\n",
    "            \n",
    "        # Additional cases can be added for quartic terms or higher-order terms.\n",
    "    \n",
    "    return qubo_matrix\n",
    "\n",
    "def add_penalty_terms(Q, aux_var, vars, penalty_coeff, cubic=True):\n",
    "    \"\"\"\n",
    "    Add penalty terms to the QUBO matrix for enforcing higher-order terms (cubic or quartic).\n",
    "    \n",
    "    Args:\n",
    "    - Q: The QUBO matrix.\n",
    "    - aux_var: The index of the auxiliary variable.\n",
    "    - vars: The indices of the variables involved in the interaction.\n",
    "    - penalty_coeff: The penalty coefficient.\n",
    "    - cubic: Whether the penalty is for cubic (True) or quartic (False).\n",
    "    \n",
    "    Returns:\n",
    "    - Updated QUBO matrix.\n",
    "    \"\"\"\n",
    "    if cubic:\n",
    "        # For cubic terms, introduce quadratic penalties\n",
    "        Q[aux_var, aux_var] = penalty_coeff\n",
    "        for v in vars:\n",
    "            Q[aux_var, v] = -penalty_coeff\n",
    "            Q[v, aux_var] = -penalty_coeff\n",
    "    else:\n",
    "        # For quartic terms, introduce quadratic penalties\n",
    "        Q[aux_var, aux_var] = penalty_coeff\n",
    "        for v in vars:\n",
    "            Q[aux_var, v] = -penalty_coeff\n",
    "            Q[v, aux_var] = -penalty_coeff\n",
    "\n",
    "    return Q\n",
    "\n",
    "def matr_to_dict(input_matrix):\n",
    "    upper_triangle_dict = {(i, j): qubo_matrix[i][j] \n",
    "                            for i in range(len(qubo_matrix)) \n",
    "                            for j in range(i, len(qubo_matrix[i]))}  # Only for j >= i as we should have a symmetrical matrix\n",
    "    return upper_triangle_dict\n",
    "\n",
    "# Number of binary variables\n",
    "num_variables = 3\n",
    "\n",
    "# Convert HUBO problem to QUBO matrix\n",
    "qubo_matrix = map_hubo_to_qubo(rand_hubo_problem, num_variables)\n",
    "qubo_dict = matr_to_dict(qubo_matrix)\n",
    "\n",
    "# Print the resulting QUBO Matrix\n",
    "print(\"Converted QUBO Matrix:\")\n",
    "print(qubo_matrix)\n",
    "# Print the resulting QUBO dictionary\n",
    "print(\"Converted QUBO dictionary:\")\n",
    "print(qubo_dict)\n"
   ]
  },
  {
   "cell_type": "code",
   "execution_count": 6,
   "metadata": {},
   "outputs": [
    {
     "name": "stdout",
     "output_type": "stream",
     "text": [
      "Solutions:\n"
     ]
    },
    {
     "ename": "NameError",
     "evalue": "name 'solution' is not defined",
     "output_type": "error",
     "traceback": [
      "\u001b[1;31m---------------------------------------------------------------------------\u001b[0m",
      "\u001b[1;31mNameError\u001b[0m                                 Traceback (most recent call last)",
      "Cell \u001b[1;32mIn[6], line 21\u001b[0m\n\u001b[0;32m     19\u001b[0m \u001b[38;5;66;03m# Extract the results\u001b[39;00m\n\u001b[0;32m     20\u001b[0m \u001b[38;5;28mprint\u001b[39m(\u001b[38;5;124m\"\u001b[39m\u001b[38;5;124mSolutions:\u001b[39m\u001b[38;5;124m\"\u001b[39m)\n\u001b[1;32m---> 21\u001b[0m \u001b[38;5;28;01mfor\u001b[39;00m sample, energy \u001b[38;5;129;01min\u001b[39;00m \u001b[43msolution\u001b[49m\u001b[38;5;241m.\u001b[39mdata([\u001b[38;5;124m'\u001b[39m\u001b[38;5;124msample\u001b[39m\u001b[38;5;124m'\u001b[39m, \u001b[38;5;124m'\u001b[39m\u001b[38;5;124menergy\u001b[39m\u001b[38;5;124m'\u001b[39m]):\n\u001b[0;32m     22\u001b[0m     \u001b[38;5;28mprint\u001b[39m(\u001b[38;5;124mf\u001b[39m\u001b[38;5;124m\"\u001b[39m\u001b[38;5;124mSample: \u001b[39m\u001b[38;5;132;01m{\u001b[39;00mclass_sampler\u001b[38;5;132;01m}\u001b[39;00m\u001b[38;5;124m, Energy: \u001b[39m\u001b[38;5;132;01m{\u001b[39;00menergy\u001b[38;5;132;01m}\u001b[39;00m\u001b[38;5;124m\"\u001b[39m)\n\u001b[0;32m     24\u001b[0m \u001b[38;5;66;03m# Find the optimal solution\u001b[39;00m\n",
      "\u001b[1;31mNameError\u001b[0m: name 'solution' is not defined"
     ]
    }
   ],
   "source": [
    "import numpy as np\n",
    "import dimod\n",
    "\n",
    "# Define the QUBO matrix\n",
    "# Example QUBO matrix for the problem: minimize x0^2 + x0*x1 - 2*x1^2\n",
    "Q = {\n",
    "    ('x0', 'x0'): 1,    # x0^2 term\n",
    "    ('x0', 'x1'): 1,    # x0*x1 term\n",
    "    ('x1', 'x1'): -2    # x1^2 term\n",
    "}\n",
    "\n",
    "# Use dimod to define a QUBO model\n",
    "qubo = dimod.BinaryQuadraticModel.from_qubo(qubo_dict)\n",
    "\n",
    "# Solve the QUBO classically using a brute force solver\n",
    "class_sampler = dimod.ExactSolver()\n",
    "class_solution = class_sampler.sample(qubo)\n",
    "\n",
    "# Extract the results\n",
    "print(\"Solutions:\")\n",
    "for sample, energy in solution.data(['sample', 'energy']):\n",
    "    print(f\"Sample: {class_sampler}, Energy: {energy}\")\n",
    "\n",
    "# Find the optimal solution\n",
    "optimal_class_sampler = solution.first.sample\n",
    "optimal_class_energy = solution.first.energy"
   ]
  },
  {
   "cell_type": "code",
   "execution_count": 7,
   "metadata": {},
   "outputs": [
    {
     "name": "stdout",
     "output_type": "stream",
     "text": [
      "Optimal Assignment(s):\n",
      "{0: 0, 1: 0, 2: 0}\n",
      "{0: 0, 1: 0, 2: 1}\n",
      "{0: 0, 1: 1, 2: 1}\n",
      "{0: 1, 1: 1, 2: 0}\n",
      "Minimum Objective Value: -9.448817735138633\n",
      "Calculated in: 0.0 seconds.\n"
     ]
    }
   ],
   "source": [
    "import itertools\n",
    "\n",
    "def evaluate_qubo(qubo, assignment):\n",
    "    \n",
    "    #Evaluate the QUBO objective function for a given binary assignment.\n",
    "\n",
    "    #Args:\n",
    "    #    qubo (dict): The QUBO problem as a dictionary.\n",
    "    #    assignment (dict): A dictionary mapping variable names to binary values (0 or 1).\n",
    "\n",
    "    #Returns:\n",
    "    #    float: The value of the objective function.\n",
    "\n",
    "    # Evaluate the objective function by multiplying the coefficients with the assigned values and summing them up.\n",
    "\n",
    "    # Note: The QUBO is in the form of a dictionary where keys are tuples of variable names (e.g., ('x0', 'x1')) and values are coefficients.\n",
    "    # This function assumes that the QUBO is symmetric, i.e., qubo[(v1, v2)] == qubo[(v2, v1)].\n",
    "\n",
    "    # Example:\n",
    "    objective_value = 0\n",
    "    for (vars_, coeff) in qubo.items():\n",
    "        product = coeff\n",
    "        for var in vars_:\n",
    "            product *= assignment[var]\n",
    "        objective_value += product\n",
    "    return objective_value\n",
    "\n",
    "start_brute = time.time()\n",
    "def brute_force_solve_qubo(qubo):\n",
    "    \n",
    "    #Solve the QUBO problem using a brute-force approach.\n",
    "\n",
    "    #Args:\n",
    "    #    qubo (dict): The QUBO problem as a dictionary.\n",
    "\n",
    "    #Returns:\n",
    "    #    dict: The optimal binary assignment.\n",
    "    #    float: The minimum value of the objective function.\n",
    "\n",
    "    # Extract all unique variables from the QUBO dictionary keys.\n",
    "    variables = set()\n",
    "    for key in qubo.keys():\n",
    "        variables.update(key)\n",
    "\n",
    "    # Generate all possible binary assignments\n",
    "    num_variables = len(variables)\n",
    "    variable_list = list(variables)\n",
    "    all_assignments = itertools.product([0, 1], repeat=num_variables)\n",
    "\n",
    "    # Evaluate all assignments and find the minimum\n",
    "    min_value = float('inf')    # value of the minimum\n",
    "    optimal_assignment = []   # the optimal binary assignment of variables\n",
    "\n",
    "    for assignment_tuple in all_assignments:\n",
    "        assignment = dict(zip(variable_list, assignment_tuple))\n",
    "        value = evaluate_qubo(qubo, assignment)\n",
    "        if value < min_value:\n",
    "            min_value = value\n",
    "            optimal_assignment.append(assignment)\n",
    "\n",
    "    return optimal_assignment, min_value\n",
    "\n",
    "# Solve the QUBO problem\n",
    "optimal_assignment_hubo, min_value_hubo = brute_force_solve_qubo(rand_hubo_problem)\n",
    "optimal_assignment_qubo, min_value_qubo = brute_force_solve_qubo(qubo_dict)\n",
    "\n",
    "\n",
    "end_brute = time.time()\n",
    "# Print the results\n",
    "print(\"Optimal Assignment(s):\")\n",
    "for el in optimal_assignment_hubo:\n",
    "    print(el)\n",
    "\n",
    "print(\"Minimum Objective Value:\", min_value_hubo)\n",
    "print(\"Calculated in:\", end_brute - start_brute, \"seconds.\")\n"
   ]
  },
  {
   "cell_type": "code",
   "execution_count": 8,
   "metadata": {},
   "outputs": [
    {
     "name": "stdout",
     "output_type": "stream",
     "text": [
      "Optimal Assignment(s):\n",
      "{0: 0, 1: 0, 2: 0, 3: 0, 4: 0}\n",
      "{0: 0, 1: 0, 2: 1, 3: 0, 4: 0}\n",
      "{0: 0, 1: 0, 2: 1, 3: 0, 4: 1}\n",
      "Minimum Objective Value: -5.343105941075571\n",
      "Calculated in: 0.0 seconds.\n"
     ]
    }
   ],
   "source": [
    "# Print the results\n",
    "print(\"Optimal Assignment(s):\")\n",
    "for el in optimal_assignment_qubo:\n",
    "    print(el)\n",
    "\n",
    "print(\"Minimum Objective Value:\", min_value_qubo)\n",
    "print(\"Calculated in:\", end_brute - start_brute, \"seconds.\")"
   ]
  },
  {
   "cell_type": "code",
   "execution_count": null,
   "metadata": {},
   "outputs": [],
   "source": []
  }
 ],
 "metadata": {
  "kernelspec": {
   "display_name": "Python 3",
   "language": "python",
   "name": "python3"
  },
  "language_info": {
   "codemirror_mode": {
    "name": "ipython",
    "version": 3
   },
   "file_extension": ".py",
   "mimetype": "text/x-python",
   "name": "python",
   "nbconvert_exporter": "python",
   "pygments_lexer": "ipython3",
   "version": "3.9.13"
  }
 },
 "nbformat": 4,
 "nbformat_minor": 2
}
