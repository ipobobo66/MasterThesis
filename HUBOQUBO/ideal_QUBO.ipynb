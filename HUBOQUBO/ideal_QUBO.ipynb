{
  "cells": [
    {
      "cell_type": "code",
      "execution_count": 2,
      "metadata": {
        "colab": {
          "base_uri": "https://localhost:8080/"
        },
        "id": "iLH33Uh1vlxd",
        "outputId": "a057d25a-ce04-4dd9-b56e-5b5226ed11e6"
      },
      "outputs": [
        {
          "name": "stdout",
          "output_type": "stream",
          "text": [
            "Requirement already satisfied: qiskit_optimization in c:\\users\\botond\\appdata\\local\\packages\\pythonsoftwarefoundation.python.3.9_qbz5n2kfra8p0\\localcache\\local-packages\\python39\\site-packages (0.6.1)\n",
            "Requirement already satisfied: qiskit>=0.44 in c:\\users\\botond\\appdata\\local\\packages\\pythonsoftwarefoundation.python.3.9_qbz5n2kfra8p0\\localcache\\local-packages\\python39\\site-packages (from qiskit_optimization) (1.3.1)\n",
            "Requirement already satisfied: qiskit-algorithms>=0.2.0 in c:\\users\\botond\\appdata\\local\\packages\\pythonsoftwarefoundation.python.3.9_qbz5n2kfra8p0\\localcache\\local-packages\\python39\\site-packages (from qiskit_optimization) (0.3.1)\n",
            "Requirement already satisfied: scipy>=1.9.0 in c:\\users\\botond\\appdata\\local\\packages\\pythonsoftwarefoundation.python.3.9_qbz5n2kfra8p0\\localcache\\local-packages\\python39\\site-packages (from qiskit_optimization) (1.13.0)\n",
            "Requirement already satisfied: numpy>=1.17 in c:\\users\\botond\\appdata\\local\\packages\\pythonsoftwarefoundation.python.3.9_qbz5n2kfra8p0\\localcache\\local-packages\\python39\\site-packages (from qiskit_optimization) (1.26.4)\n",
            "Requirement already satisfied: docplex!=2.24.231,>=2.21.207 in c:\\users\\botond\\appdata\\local\\packages\\pythonsoftwarefoundation.python.3.9_qbz5n2kfra8p0\\localcache\\local-packages\\python39\\site-packages (from qiskit_optimization) (2.29.241)\n",
            "Requirement already satisfied: setuptools>=40.1.0 in c:\\program files\\windowsapps\\pythonsoftwarefoundation.python.3.9_3.9.3568.0_x64__qbz5n2kfra8p0\\lib\\site-packages (from qiskit_optimization) (58.1.0)\n",
            "Requirement already satisfied: networkx>=2.6.3 in c:\\users\\botond\\appdata\\local\\packages\\pythonsoftwarefoundation.python.3.9_qbz5n2kfra8p0\\localcache\\local-packages\\python39\\site-packages (from qiskit_optimization) (3.2.1)\n",
            "Requirement already satisfied: six in c:\\users\\botond\\appdata\\local\\packages\\pythonsoftwarefoundation.python.3.9_qbz5n2kfra8p0\\localcache\\local-packages\\python39\\site-packages (from docplex!=2.24.231,>=2.21.207->qiskit_optimization) (1.16.0)\n",
            "Requirement already satisfied: rustworkx>=0.15.0 in c:\\users\\botond\\appdata\\local\\packages\\pythonsoftwarefoundation.python.3.9_qbz5n2kfra8p0\\localcache\\local-packages\\python39\\site-packages (from qiskit>=0.44->qiskit_optimization) (0.15.1)\n",
            "Requirement already satisfied: sympy>=1.3 in c:\\users\\botond\\appdata\\local\\packages\\pythonsoftwarefoundation.python.3.9_qbz5n2kfra8p0\\localcache\\local-packages\\python39\\site-packages (from qiskit>=0.44->qiskit_optimization) (1.13.1)\n",
            "Requirement already satisfied: dill>=0.3 in c:\\users\\botond\\appdata\\local\\packages\\pythonsoftwarefoundation.python.3.9_qbz5n2kfra8p0\\localcache\\local-packages\\python39\\site-packages (from qiskit>=0.44->qiskit_optimization) (0.3.8)\n",
            "Requirement already satisfied: python-dateutil>=2.8.0 in c:\\users\\botond\\appdata\\local\\packages\\pythonsoftwarefoundation.python.3.9_qbz5n2kfra8p0\\localcache\\local-packages\\python39\\site-packages (from qiskit>=0.44->qiskit_optimization) (2.9.0.post0)\n",
            "Requirement already satisfied: stevedore>=3.0.0 in c:\\users\\botond\\appdata\\local\\packages\\pythonsoftwarefoundation.python.3.9_qbz5n2kfra8p0\\localcache\\local-packages\\python39\\site-packages (from qiskit>=0.44->qiskit_optimization) (5.2.0)\n",
            "Requirement already satisfied: typing-extensions in c:\\users\\botond\\appdata\\local\\packages\\pythonsoftwarefoundation.python.3.9_qbz5n2kfra8p0\\localcache\\local-packages\\python39\\site-packages (from qiskit>=0.44->qiskit_optimization) (4.11.0)\n",
            "Requirement already satisfied: symengine<0.14,>=0.11 in c:\\users\\botond\\appdata\\local\\packages\\pythonsoftwarefoundation.python.3.9_qbz5n2kfra8p0\\localcache\\local-packages\\python39\\site-packages (from qiskit>=0.44->qiskit_optimization) (0.11.0)\n",
            "Requirement already satisfied: pbr!=2.1.0,>=2.0.0 in c:\\users\\botond\\appdata\\local\\packages\\pythonsoftwarefoundation.python.3.9_qbz5n2kfra8p0\\localcache\\local-packages\\python39\\site-packages (from stevedore>=3.0.0->qiskit>=0.44->qiskit_optimization) (6.0.0)\n",
            "Requirement already satisfied: mpmath<1.4,>=1.1.0 in c:\\users\\botond\\appdata\\local\\packages\\pythonsoftwarefoundation.python.3.9_qbz5n2kfra8p0\\localcache\\local-packages\\python39\\site-packages (from sympy>=1.3->qiskit>=0.44->qiskit_optimization) (1.3.0)\n",
            "Requirement already satisfied: qiskit_algorithms in c:\\users\\botond\\appdata\\local\\packages\\pythonsoftwarefoundation.python.3.9_qbz5n2kfra8p0\\localcache\\local-packages\\python39\\site-packages (0.3.1)\n",
            "Requirement already satisfied: qiskit>=0.44 in c:\\users\\botond\\appdata\\local\\packages\\pythonsoftwarefoundation.python.3.9_qbz5n2kfra8p0\\localcache\\local-packages\\python39\\site-packages (from qiskit_algorithms) (1.3.1)\n",
            "Requirement already satisfied: scipy>=1.4 in c:\\users\\botond\\appdata\\local\\packages\\pythonsoftwarefoundation.python.3.9_qbz5n2kfra8p0\\localcache\\local-packages\\python39\\site-packages (from qiskit_algorithms) (1.13.0)\n",
            "Requirement already satisfied: numpy>=1.17 in c:\\users\\botond\\appdata\\local\\packages\\pythonsoftwarefoundation.python.3.9_qbz5n2kfra8p0\\localcache\\local-packages\\python39\\site-packages (from qiskit_algorithms) (1.26.4)\n",
            "Requirement already satisfied: rustworkx>=0.15.0 in c:\\users\\botond\\appdata\\local\\packages\\pythonsoftwarefoundation.python.3.9_qbz5n2kfra8p0\\localcache\\local-packages\\python39\\site-packages (from qiskit>=0.44->qiskit_algorithms) (0.15.1)\n",
            "Requirement already satisfied: sympy>=1.3 in c:\\users\\botond\\appdata\\local\\packages\\pythonsoftwarefoundation.python.3.9_qbz5n2kfra8p0\\localcache\\local-packages\\python39\\site-packages (from qiskit>=0.44->qiskit_algorithms) (1.13.1)\n",
            "Requirement already satisfied: dill>=0.3 in c:\\users\\botond\\appdata\\local\\packages\\pythonsoftwarefoundation.python.3.9_qbz5n2kfra8p0\\localcache\\local-packages\\python39\\site-packages (from qiskit>=0.44->qiskit_algorithms) (0.3.8)\n",
            "Requirement already satisfied: python-dateutil>=2.8.0 in c:\\users\\botond\\appdata\\local\\packages\\pythonsoftwarefoundation.python.3.9_qbz5n2kfra8p0\\localcache\\local-packages\\python39\\site-packages (from qiskit>=0.44->qiskit_algorithms) (2.9.0.post0)\n",
            "Requirement already satisfied: stevedore>=3.0.0 in c:\\users\\botond\\appdata\\local\\packages\\pythonsoftwarefoundation.python.3.9_qbz5n2kfra8p0\\localcache\\local-packages\\python39\\site-packages (from qiskit>=0.44->qiskit_algorithms) (5.2.0)\n",
            "Requirement already satisfied: typing-extensions in c:\\users\\botond\\appdata\\local\\packages\\pythonsoftwarefoundation.python.3.9_qbz5n2kfra8p0\\localcache\\local-packages\\python39\\site-packages (from qiskit>=0.44->qiskit_algorithms) (4.11.0)\n",
            "Requirement already satisfied: symengine<0.14,>=0.11 in c:\\users\\botond\\appdata\\local\\packages\\pythonsoftwarefoundation.python.3.9_qbz5n2kfra8p0\\localcache\\local-packages\\python39\\site-packages (from qiskit>=0.44->qiskit_algorithms) (0.11.0)\n",
            "Requirement already satisfied: six>=1.5 in c:\\users\\botond\\appdata\\local\\packages\\pythonsoftwarefoundation.python.3.9_qbz5n2kfra8p0\\localcache\\local-packages\\python39\\site-packages (from python-dateutil>=2.8.0->qiskit>=0.44->qiskit_algorithms) (1.16.0)\n",
            "Requirement already satisfied: pbr!=2.1.0,>=2.0.0 in c:\\users\\botond\\appdata\\local\\packages\\pythonsoftwarefoundation.python.3.9_qbz5n2kfra8p0\\localcache\\local-packages\\python39\\site-packages (from stevedore>=3.0.0->qiskit>=0.44->qiskit_algorithms) (6.0.0)\n",
            "Requirement already satisfied: mpmath<1.4,>=1.1.0 in c:\\users\\botond\\appdata\\local\\packages\\pythonsoftwarefoundation.python.3.9_qbz5n2kfra8p0\\localcache\\local-packages\\python39\\site-packages (from sympy>=1.3->qiskit>=0.44->qiskit_algorithms) (1.3.0)\n",
            "Requirement already satisfied: qiskit_aer in c:\\users\\botond\\appdata\\local\\packages\\pythonsoftwarefoundation.python.3.9_qbz5n2kfra8p0\\localcache\\local-packages\\python39\\site-packages (0.14.2)\n",
            "Requirement already satisfied: qiskit>=0.45.2 in c:\\users\\botond\\appdata\\local\\packages\\pythonsoftwarefoundation.python.3.9_qbz5n2kfra8p0\\localcache\\local-packages\\python39\\site-packages (from qiskit_aer) (1.3.1)\n",
            "Requirement already satisfied: numpy>=1.16.3 in c:\\users\\botond\\appdata\\local\\packages\\pythonsoftwarefoundation.python.3.9_qbz5n2kfra8p0\\localcache\\local-packages\\python39\\site-packages (from qiskit_aer) (1.26.4)\n",
            "Requirement already satisfied: scipy>=1.0 in c:\\users\\botond\\appdata\\local\\packages\\pythonsoftwarefoundation.python.3.9_qbz5n2kfra8p0\\localcache\\local-packages\\python39\\site-packages (from qiskit_aer) (1.13.0)\n",
            "Requirement already satisfied: psutil>=5 in c:\\users\\botond\\appdata\\local\\packages\\pythonsoftwarefoundation.python.3.9_qbz5n2kfra8p0\\localcache\\local-packages\\python39\\site-packages (from qiskit_aer) (5.9.8)\n",
            "Requirement already satisfied: rustworkx>=0.15.0 in c:\\users\\botond\\appdata\\local\\packages\\pythonsoftwarefoundation.python.3.9_qbz5n2kfra8p0\\localcache\\local-packages\\python39\\site-packages (from qiskit>=0.45.2->qiskit_aer) (0.15.1)\n",
            "Requirement already satisfied: sympy>=1.3 in c:\\users\\botond\\appdata\\local\\packages\\pythonsoftwarefoundation.python.3.9_qbz5n2kfra8p0\\localcache\\local-packages\\python39\\site-packages (from qiskit>=0.45.2->qiskit_aer) (1.13.1)\n",
            "Requirement already satisfied: dill>=0.3 in c:\\users\\botond\\appdata\\local\\packages\\pythonsoftwarefoundation.python.3.9_qbz5n2kfra8p0\\localcache\\local-packages\\python39\\site-packages (from qiskit>=0.45.2->qiskit_aer) (0.3.8)\n",
            "Requirement already satisfied: python-dateutil>=2.8.0 in c:\\users\\botond\\appdata\\local\\packages\\pythonsoftwarefoundation.python.3.9_qbz5n2kfra8p0\\localcache\\local-packages\\python39\\site-packages (from qiskit>=0.45.2->qiskit_aer) (2.9.0.post0)\n",
            "Requirement already satisfied: stevedore>=3.0.0 in c:\\users\\botond\\appdata\\local\\packages\\pythonsoftwarefoundation.python.3.9_qbz5n2kfra8p0\\localcache\\local-packages\\python39\\site-packages (from qiskit>=0.45.2->qiskit_aer) (5.2.0)\n",
            "Requirement already satisfied: typing-extensions in c:\\users\\botond\\appdata\\local\\packages\\pythonsoftwarefoundation.python.3.9_qbz5n2kfra8p0\\localcache\\local-packages\\python39\\site-packages (from qiskit>=0.45.2->qiskit_aer) (4.11.0)\n",
            "Requirement already satisfied: symengine<0.14,>=0.11 in c:\\users\\botond\\appdata\\local\\packages\\pythonsoftwarefoundation.python.3.9_qbz5n2kfra8p0\\localcache\\local-packages\\python39\\site-packages (from qiskit>=0.45.2->qiskit_aer) (0.11.0)\n",
            "Requirement already satisfied: six>=1.5 in c:\\users\\botond\\appdata\\local\\packages\\pythonsoftwarefoundation.python.3.9_qbz5n2kfra8p0\\localcache\\local-packages\\python39\\site-packages (from python-dateutil>=2.8.0->qiskit>=0.45.2->qiskit_aer) (1.16.0)\n",
            "Requirement already satisfied: pbr!=2.1.0,>=2.0.0 in c:\\users\\botond\\appdata\\local\\packages\\pythonsoftwarefoundation.python.3.9_qbz5n2kfra8p0\\localcache\\local-packages\\python39\\site-packages (from stevedore>=3.0.0->qiskit>=0.45.2->qiskit_aer) (6.0.0)\n",
            "Requirement already satisfied: mpmath<1.4,>=1.1.0 in c:\\users\\botond\\appdata\\local\\packages\\pythonsoftwarefoundation.python.3.9_qbz5n2kfra8p0\\localcache\\local-packages\\python39\\site-packages (from sympy>=1.3->qiskit>=0.45.2->qiskit_aer) (1.3.0)\n"
          ]
        }
      ],
      "source": [
        "!pip install qiskit_optimization\n",
        "!pip install qiskit_algorithms\n",
        "!pip install qiskit_aer"
      ]
    },
    {
      "cell_type": "code",
      "execution_count": 3,
      "metadata": {},
      "outputs": [
        {
          "name": "stderr",
          "output_type": "stream",
          "text": [
            "ERROR: Could not find a version that satisfies the requirement qiskit.opflow (from versions: none)\n",
            "ERROR: No matching distribution found for qiskit.opflow\n"
          ]
        }
      ],
      "source": [
        "!pip install qiskit.opflow"
      ]
    },
    {
      "cell_type": "code",
      "execution_count": 2,
      "metadata": {
        "id": "wAAFQQrHvbbg"
      },
      "outputs": [],
      "source": [
        "from qiskit_optimization import QuadraticProgram\n",
        "import re\n",
        "\n",
        "def qubo_from_expression(expression: str) -> QuadraticProgram:\n",
        "    # Initialize the quadratic program\n",
        "    mod = QuadraticProgram(\"QUBO Problem\")\n",
        "\n",
        "    # Parse variables from the expression using regex\n",
        "    variables = list(set(re.findall(r'\\b[a-zA-Z]\\b', expression)))\n",
        "    for var in sorted(variables):\n",
        "        mod.binary_var(name=var)\n",
        "\n",
        "    # Initialize terms\n",
        "    constant = 0\n",
        "    linear_terms = {}\n",
        "    quadratic_terms = {}\n",
        "\n",
        "    # Regex patterns for terms\n",
        "    # Matches quadratic terms like \"2*x*y\" or \"x*y\"\n",
        "    quadratic_pattern = re.compile(r\"([+-]?\\d*\\.?\\d*)\\*?([a-zA-Z])\\*([a-zA-Z])\")\n",
        "    # Matches linear terms like \"2*x\" or \"x\"\n",
        "    linear_pattern = re.compile(r'([+-]?\\d*\\.?\\d*)\\*?([a-zA-Z])\\b')\n",
        "    # Matches constant terms like \"3\" or \"-4\"\n",
        "    constant_pattern = re.compile(r'([+-]?\\d+\\.?\\d+)\\b')\n",
        "\n",
        "    # Remove whitespace\n",
        "    expression = expression.replace(\" \", \"\")\n",
        "\n",
        "    # Parse quadratic terms\n",
        "    for match in quadratic_pattern.findall(expression):\n",
        "        coef = float(match[0]) if match[0] not in [\"\", \"+\", \"-\"] else (-1 if match[0] == \"-\" else 1)\n",
        "        var1, var2 = match[1], match[2]\n",
        "        term = tuple(sorted([var1, var2]))  # Ensure consistent ordering\n",
        "        quadratic_terms[term] = quadratic_terms.get(term, 0) + coef\n",
        "\n",
        "    # Remove quadratic terms from expression to avoid double counting\n",
        "    expression = quadratic_pattern.sub(\"\", expression)\n",
        "\n",
        "    # Parse linear terms\n",
        "    for match in linear_pattern.findall(expression):\n",
        "        coef = float(match[0]) if match[0] not in [\"\", \"+\", \"-\"] else (-1 if match[0] == \"-\" else 1)\n",
        "        var = match[1]\n",
        "        linear_terms[var] = linear_terms.get(var, 0) + coef\n",
        "\n",
        "    # Remove linear terms from expression\n",
        "    expression = linear_pattern.sub(\"\", expression)\n",
        "\n",
        "    # Parse constants\n",
        "    for match in constant_pattern.findall(expression):\n",
        "        constant += float(match)\n",
        "\n",
        "    # Add the parsed terms to the quadratic program\n",
        "    mod.minimize(constant=constant, linear=linear_terms, quadratic=quadratic_terms)\n",
        "\n",
        "    return mod\n",
        "\n",
        "\n",
        "import re\n",
        "\n",
        "def extract_qubo_edges(expression):\n",
        "    \"\"\"\n",
        "    Extracts QUBO edges and their weights from a given expression.\n",
        "    Linear terms are interpreted as quadratic (e.g., 2*a -> 2*a*a).\n",
        "    Missing coefficients are assumed to be 1.\n",
        "\n",
        "    Args:\n",
        "        expression (str): The QUBO expression as a string.\n",
        "\n",
        "    Returns:\n",
        "        list: A list of tuples representing edges in the form (node1, node2, weight).\n",
        "    \"\"\"\n",
        "    # Remove whitespace\n",
        "    expression = expression.replace(\" \", \"\")\n",
        "\n",
        "    # Match terms of the form \"coefficient*var1*var2\" or \"coefficient*var\" (linear terms)\n",
        "    term_pattern = r\"([+-]?\\d*\\.?\\d*)\\*?([a-zA-Z])(?:\\*([a-zA-Z]))?\"\n",
        "    matches = re.findall(term_pattern, expression)\n",
        "\n",
        "    # Convert matches to edge tuples\n",
        "    edges = []\n",
        "    for coeff, var1, var2 in matches:\n",
        "        # Handle missing coefficient (e.g., \"a*b\" -> \"1*a*b\")\n",
        "        if coeff in ('', '+', '-'):\n",
        "            coeff = coeff + \"1\"  # Add \"1\" to missing coefficient (+ -> +1, - -> -1)\n",
        "        weight = float(coeff)\n",
        "\n",
        "        # If var2 is empty, it's a linear term, interpret as quadratic (var1*var1)\n",
        "        if not var2:\n",
        "            edges.append((var1, var1, weight))\n",
        "        else:\n",
        "            edges.append((var1, var2, weight))\n",
        "\n",
        "    return edges"
      ]
    },
    {
      "cell_type": "code",
      "execution_count": 3,
      "metadata": {
        "colab": {
          "base_uri": "https://localhost:8080/"
        },
        "id": "iC-_rjlafDkg",
        "outputId": "f80e70ef-1e9e-466c-bde8-eb9c4edca229"
      },
      "outputs": [
        {
          "name": "stdout",
          "output_type": "stream",
          "text": [
            "Problem name: QUBO Problem\n",
            "\n",
            "Minimize\n",
            "  3*x^2 + x*y - 2*x*z + z^2\n",
            "\n",
            "Subject to\n",
            "  No constraints\n",
            "\n",
            "  Binary variables (3)\n",
            "    x y z\n",
            "\n",
            "SolutionSample(x=array([0., 0., 0.]), fval=0.0, probability=1.0, status=<OptimizationResultStatus.SUCCESS: 0>)\n",
            "Objective function value:  0.0\n",
            "Number of solutions:  1\n"
          ]
        }
      ],
      "source": [
        "from qiskit_algorithms import NumPyMinimumEigensolver\n",
        "from qiskit_optimization.algorithms import MinimumEigenOptimizer\n",
        "\n",
        "expression_1 = \"x + 2*x*y - z*z + 3\"\n",
        "expression_2 = \"x*y + z*z - 2*x*z + 3*x*x - 1\"\n",
        "expression_3 =\"- a*b + 2*b*c - c*d + d*e - 2*a*a + 1.5*b + 1.5\"\n",
        "expression_4 = \"2*a*b - 3*b*c - 1.5*c*d + 4*d*e + e*f + 2.5*f*g + 3.5*g*h + 0.5*h*i + 2*i*j + j*a\" # 2-regular, no triangles\n",
        "expression_5 = \"2*a*b - 3*b*c + 1.5*c*d + 4*d*e + e*f + 2.5*f*g + 3*g*h + 0.5*h*i + 2*i*j + j*a\" # 2-regular, no triangles\n",
        "expression_6 = \"96*a*a + 192*a*b + 96*a*c + 96*a*x + 192*a*y \\\n",
        "  + 96*a*z + 192*a*v + 96*a*d - 100*a*q \\\n",
        "  - 100*a*p + 96*b*b + 96*b*c + 96*b*x + 192*b*y \\\n",
        "  + 96*b*z + 192*b*v + 96*b*d - 100*b*q \\\n",
        "  - 100*b*p + 48*c*c + 96*c*x + 192*c*y \\\n",
        "  - 100*c*q + 48*x*x + 192*x*y \\\n",
        "  + 192*y*x + 48*z*z \\\n",
        "  + 192*z*v + 192*v*v \\\n",
        "  + 96*d*z + 192*d*v + 48*d*d - 100*d*p \\\n",
        "  - 96*q*x - 192*q*y + 48*q*q \\\n",
        "  - 96*p*z - 192*p*v + 48*p*p - 384*a \\\n",
        "  - 384*b - 192*c - 192*x - 384*y - 192*z \\\n",
        "  - 384*v - 192*d + 202*q + 205*p + 384\" # with triangles\n",
        "\n",
        "exp = expression_2\n",
        "\n",
        "qubo = qubo_from_expression(exp)\n",
        "print(qubo.prettyprint())\n",
        "\n",
        "\n",
        "exact_mes = NumPyMinimumEigensolver()\n",
        "exact = MinimumEigenOptimizer(exact_mes)\n",
        "exact_result = exact.solve(qubo)\n",
        "for sample in exact_result.samples:\n",
        "    print(sample)\n",
        "\n",
        "print(\"Objective function value: \", exact_result.fval)\n",
        "print(\"Number of solutions: \", len(exact_result.samples))"
      ]
    },
    {
      "cell_type": "code",
      "execution_count": 4,
      "metadata": {
        "colab": {
          "base_uri": "https://localhost:8080/",
          "height": 659
        },
        "id": "dhflYvuMJTdU",
        "outputId": "d9ecdb30-bfb6-4aee-cabf-8dfa00134ff8"
      },
      "outputs": [
        {
          "data": {
            "image/png": "[encoded data removed]",
            "text/plain": [
              "<Figure size 1000x600 with 1 Axes>"
            ]
          },
          "metadata": {},
          "output_type": "display_data"
        }
      ],
      "source": [
        "import networkx as nx\n",
        "import matplotlib.pyplot as plt\n",
        "\n",
        "# Define the QUBO interactions as a weighted graph\n",
        "qubo_edges = extract_qubo_edges(exp)\n",
        "# Create a graph\n",
        "G = nx.Graph()\n",
        "G.add_weighted_edges_from(qubo_edges)\n",
        "\n",
        "# Draw the graph\n",
        "plt.figure(figsize=(10, 6))\n",
        "pos = nx.circular_layout(G)  # Positioning nodes with spring layout\n",
        "nx.draw(G, pos, with_labels=True, node_color=\"lightblue\", edge_color=\"gray\", node_size=2000, font_size=10, font_weight='bold')\n",
        "edge_labels = nx.get_edge_attributes(G, 'weight')\n",
        "nx.draw_networkx_edge_labels(G, pos, edge_labels=edge_labels, font_color='red', font_size=10)\n",
        "plt.title(\"Graph Representation of QUBO\")\n",
        "plt.show()\n"
      ]
    },
    {
      "cell_type": "code",
      "execution_count": 9,
      "metadata": {
        "colab": {
          "base_uri": "https://localhost:8080/"
        },
        "id": "ka6Xtaqkb0Eh",
        "outputId": "05091e18-c282-4fd3-eb79-d14f74eae648"
      },
      "outputs": [
        {
          "name": "stdout",
          "output_type": "stream",
          "text": [
            "SolutionSample(x=array([0., 1., 0.]), fval=0.0, probability=0.5159, status=<OptimizationResultStatus.SUCCESS: 0>)\n",
            "SolutionSample(x=array([0., 0., 0.]), fval=0.0, probability=0.3535, status=<OptimizationResultStatus.SUCCESS: 0>)\n",
            "Objective function value:  0.0\n",
            "Number of solutions:  2\n"
          ]
        }
      ],
      "source": [
        "from qiskit_algorithms import QAOA\n",
        "from qiskit_aer.primitives import Sampler\n",
        "from qiskit_algorithms.optimizers import COBYLA, SPSA, ADAM, NELDER_MEAD, L_BFGS_B\n",
        "from qiskit_optimization.algorithms import OptimizationResultStatus, SolutionSample\n",
        "import numpy as np\n",
        "from typing import List, Tuple\n",
        "\n",
        "from qiskit.quantum_info import Pauli, SparsePauliOp\n",
        "\n",
        "\n",
        "\n",
        "def get_beta_gamma_sequential(n, beta, gamma):\n",
        "    return [beta] * n + [gamma] * n\n",
        "\n",
        "def get_beta_gamma_alternating(n, beta, gamma):\n",
        "    return [beta, gamma] * n\n",
        "\n",
        "def step(step:int,params:np.array,mean:float,error:float):\n",
        "    print(f'step: {step}, mean: {mean}, params: {params}')\n",
        "\n",
        "def find_greatest_absolute_weight(qubo):\n",
        "    weight_dict = qubo.objective.quadratic.to_dict() | qubo.objective.linear.to_dict()\n",
        "    weights = weight_dict.values()\n",
        "    return max(abs(weight) for weight in weights)\n",
        "\n",
        "def get_beta(a, d):\n",
        "    return (1/a)*np.arctan(1/np.sqrt(d-1))\n",
        "\n",
        "qaoa_p = 7 #len(qubo.variables)\n",
        "\n",
        "greatest_weight = find_greatest_absolute_weight(qubo)\n",
        "beta = get_beta(greatest_weight, 2)\n",
        "\n",
        "beta_gamma = get_beta_gamma_alternating(qaoa_p, 0, np.pi/8)\n",
        "\n",
        "shots = 10000\n",
        "sampler = Sampler(run_options={\n",
        "        \"shots\": shots,\n",
        "        \"seed\": 42,\n",
        "        \"max_parallel_threads\": 0,\n",
        "        \"max_parallel_experiments\": 0,\n",
        "        \"max_parallel_shots\": 1,\n",
        "        \"statevector_parallel_threshold\": 8,\n",
        "        \"device\": \"CPU\"\n",
        "    })\n",
        "optimizer = COBYLA(maxiter=2500, tol=1e-4)\n",
        "\n",
        "mixer_op = SparsePauliOp([\"XXXXXXXXXX\", \"YYYYYYYYYY\"], coeffs = [.5, .5])   #if we want to define a different mixer operator\n",
        "\n",
        "qaoa_mes = QAOA(sampler=sampler, optimizer=optimizer, reps=qaoa_p, #callback=step,\n",
        "               initial_point=beta_gamma)\n",
        "qaoa = MinimumEigenOptimizer(qaoa_mes)\n",
        "result = qaoa.solve(qubo)\n",
        "\n",
        "solutions = [s for s in result.samples if s.fval == result.fval]\n",
        "for solution in solutions:\n",
        "    print(solution)\n",
        "\n",
        "print(\"Objective function value: \", solution.fval)\n",
        "print(\"Number of solutions: \", len(solutions))\n"
      ]
    },
    {
      "cell_type": "code",
      "execution_count": 10,
      "metadata": {
        "colab": {
          "base_uri": "https://localhost:8080/",
          "height": 928
        },
        "id": "UA7Ue3FFdkU0",
        "outputId": "d6ebe672-751a-47f6-d888-23516756ebdc"
      },
      "outputs": [
        {
          "name": "stdout",
          "output_type": "stream",
          "text": [
            "Total variables:  3\n",
            "P:  7\n",
            "Shots:  10000\n"
          ]
        },
        {
          "data": {
            "image/png": "[encoded data removed]",
            "text/plain": [
              "<Figure size 1000x600 with 1 Axes>"
            ]
          },
          "metadata": {},
          "output_type": "display_data"
        }
      ],
      "source": [
        "import matplotlib.pyplot as plt\n",
        "import matplotlib.patches as mpatches\n",
        "\n",
        "def get_solutions_for_plot(result):\n",
        "    solutions = []\n",
        "    fval = result.fval\n",
        "    for sample in result.samples:\n",
        "        if sample.fval == fval:\n",
        "            solutions.append(sample)\n",
        "    return {\n",
        "    \" \".join(f\"{result.variables[i].name}={int(v)}\" for i, v in enumerate(s.x))\n",
        "    for s in solutions\n",
        "    }\n",
        "\n",
        "def get_samples(data):\n",
        "    return {\n",
        "    \" \".join(f\"{data.variables[i].name}={int(v)}\" for i, v in enumerate(s.x)): s.probability\n",
        "    for s in data.samples\n",
        "    }\n",
        "\n",
        "solutions_for_plot = get_solutions_for_plot(result)\n",
        "samples_for_plot = get_samples(result)\n",
        "\n",
        "labels = list(samples_for_plot.keys())\n",
        "values = list(samples_for_plot.values())\n",
        "\n",
        "# Define color scheme, with one bar having a different color\n",
        "colors = ['orange' if label in solutions_for_plot else 'skyblue' for label in labels]\n",
        "\n",
        "# Plotting\n",
        "plt.figure(figsize=(10, 6))\n",
        "plt.bar(labels, values, color=colors)\n",
        "\n",
        "# Labeling\n",
        "plt.xlabel(\"Solutions\", fontsize=16)\n",
        "plt.ylabel(\"Quasi-probaility\", fontsize=16)\n",
        "plt.title(\"Analysis of Samples\", fontsize=18)\n",
        "plt.xticks(rotation=70, ha='right', rotation_mode='anchor')  # Rotate x-axis labels for readability\n",
        "\n",
        "# Create custom legend\n",
        "correct_patch = mpatches.Patch(color='orange', label='Correct Solution')\n",
        "incorrect_patch = mpatches.Patch(color='skyblue', label='Incorrect Solution')\n",
        "plt.legend(handles=[correct_patch, incorrect_patch])\n",
        "\n",
        "print(\"Total variables: \", len(result.variables))\n",
        "print(\"P: \",qaoa_p)\n",
        "print(\"Shots: \",shots)\n",
        "plt.show()"
      ]
    },
    {
      "cell_type": "code",
      "execution_count": null,
      "metadata": {},
      "outputs": [],
      "source": []
    },
    {
      "cell_type": "code",
      "execution_count": null,
      "metadata": {},
      "outputs": [],
      "source": []
    }
  ],
  "metadata": {
    "colab": {
      "provenance": []
    },
    "kernelspec": {
      "display_name": "Python 3",
      "name": "python3"
    },
    "language_info": {
      "codemirror_mode": {
        "name": "ipython",
        "version": 3
      },
      "file_extension": ".py",
      "mimetype": "text/x-python",
      "name": "python",
      "nbconvert_exporter": "python",
      "pygments_lexer": "ipython3",
      "version": "3.9.13"
    }
  },
  "nbformat": 4,
  "nbformat_minor": 0
}
