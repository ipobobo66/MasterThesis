{
 "cells": [
  {
   "cell_type": "markdown",
   "metadata": {},
   "source": [
    "# Prepare quantum state with sampling distribution"
   ]
  },
  {
   "cell_type": "code",
   "execution_count": 5,
   "metadata": {},
   "outputs": [
    {
     "name": "stdout",
     "output_type": "stream",
     "text": [
      "   ┌─────────────────────────────┐\n",
      "q: ┤ Initialize(0.53452,0.84515) ├\n",
      "   └─────────────────────────────┘\n"
     ]
    }
   ],
   "source": [
    "from qiskit import QuantumCircuit\n",
    "import numpy as np\n",
    "\n",
    "# Target probabilities\n",
    "P = np.array([0.2, 0.5])\n",
    "amplitudes = np.sqrt(P)  # Compute amplitudes\n",
    "amplitudes = amplitudes / np.linalg.norm(amplitudes)  # Normalize\n",
    "\n",
    "# Quantum circuit\n",
    "num_qubits = int(np.ceil(np.log2(len(P))))\n",
    "qc = QuantumCircuit(num_qubits)\n",
    "\n",
    "# Initialize state\n",
    "qc.initialize(amplitudes, list(range(num_qubits)))\n",
    "\n",
    "# View the circuit\n",
    "print(qc)\n"
   ]
  },
  {
   "cell_type": "code",
   "execution_count": 3,
   "metadata": {},
   "outputs": [
    {
     "name": "stdout",
     "output_type": "stream",
     "text": [
      "Original HUBO: {(1, 2, 3): 1.0, (2, 3, 4): 1.5}\n"
     ]
    },
    {
     "name": "stderr",
     "output_type": "stream",
     "text": [
      "C:\\Users\\Botond\\AppData\\Local\\Temp\\ipykernel_12316\\2816406030.py:2: DeprecationWarning: dwavebinarycsp is deprecated and will be removed in Ocean 10. For solving problems with constraints, we recommend using the hybrid solvers in the Leap service. You can find documentation for the hybrid solvers at https://docs.ocean.dwavesys.com.\n",
      "  from dwavebinarycsp import ConstraintSatisfactionProblem, stitch\n"
     ]
    }
   ],
   "source": [
    "from dwave.system import EmbeddingComposite, DWaveSampler\n",
    "from dwavebinarycsp import ConstraintSatisfactionProblem, stitch\n",
    "import dimod\n",
    "\n",
    "# Define the HUBO function\n",
    "# Example: H(x) = x1*x2*x3 + x2*x3*x4\n",
    "hubo = {(1, 2, 3): 1.0, (2, 3, 4): 1.5}\n",
    "\n",
    "# Print the HUBO\n",
    "print(\"Original HUBO:\", hubo)"
   ]
  },
  {
   "cell_type": "code",
   "execution_count": null,
   "metadata": {},
   "outputs": [],
   "source": []
  }
 ],
 "metadata": {
  "kernelspec": {
   "display_name": "Python 3",
   "language": "python",
   "name": "python3"
  },
  "language_info": {
   "codemirror_mode": {
    "name": "ipython",
    "version": 3
   },
   "file_extension": ".py",
   "mimetype": "text/x-python",
   "name": "python",
   "nbconvert_exporter": "python",
   "pygments_lexer": "ipython3",
   "version": "3.9.13"
  }
 },
 "nbformat": 4,
 "nbformat_minor": 2
}
