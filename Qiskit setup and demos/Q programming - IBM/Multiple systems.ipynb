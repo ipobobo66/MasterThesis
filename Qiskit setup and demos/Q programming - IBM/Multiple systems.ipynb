{
 "cells": [
  {
   "cell_type": "code",
   "execution_count": 1,
   "metadata": {},
   "outputs": [],
   "source": [
    "from qiskit.quantum_info import Statevector, Operator\n",
    "from numpy import sqrt\n",
    "\n",
    "from qiskit.quantum_info import Statevector\n",
    "from numpy import sqrt\n",
    "\n",
    "from qiskit import QuantumCircuit\n",
    "from qiskit.quantum_info import Statevector\n",
    "from qiskit.visualization import plot_state_city"
   ]
  },
  {
   "cell_type": "markdown",
   "metadata": {},
   "source": [
    "# Multiple systems"
   ]
  },
  {
   "cell_type": "markdown",
   "metadata": {},
   "source": [
    "As probabilistic and quantum descriptions are mathematically similar, recognizing how the mathematics works in the familiar setting of classical information is helpful in understanding why quantum information is described in the way that it is.\n",
    "\n",
    "Let's start at a very basic level, with classical states of multiple systems. For simplicity, begin by discussing just two systems, and then generalize to more than two systems.\n",
    "\n",
    "Just as before we begin with the classical states $\\textbf{A}$ and $\\textbf{B}$, so in this case a stateset; ($\\textbf{A}$, $\\textbf{B}$) $\\in$ $\\Sigma$. Both $\\textbf{A}$ and $\\textbf{B}$ can be 0 or 1 respectively. Meaning that the set of the pair of states can be $\\Sigma$ = {(0,0), (0,1), (1,0), (1,1)}.\n",
    "\n",
    "Now it would be wise to carry on as we did before, and show how can we create a probabilistic representation of these states using quantum mechanics. Where every state is not black or white but a probabilistic mixture of all posibilities. With a single system, the basis states were the vectors:\n",
    "\\begin{equation}\n",
    "    \\begin{pmatrix} 1 \\\\ 0 \\end{pmatrix} ; \\begin{pmatrix} 0 \\\\ 1 \\end{pmatrix}\n",
    "\\end{equation}\n",
    "as the dimensionality of a system is $d = 2^n$. Thus the basis states of the two-system are:\n",
    "\\begin{equation}\n",
    "    \\begin{pmatrix} 1 \\\\ 0 \\\\ 0 \\\\ 0 \\end{pmatrix} ; \\begin{pmatrix} 0 \\\\ 1 \\\\ 0 \\\\ 0 \\end{pmatrix} \n",
    "    ; \\begin{pmatrix} 0 \\\\ 0 \\\\ 1 \\\\ 0 \\end{pmatrix} ; \\begin{pmatrix} 0 \\\\ 0 \\\\ 0 \\\\ 1 \\end{pmatrix}\n",
    "\\end{equation}\n",
    "where the probabilites associated with the states are in order of (0,0), (0,1), (1,0), (1,1).\n",
    "\n",
    "We can see that the basis states of this two-system are actually the vector products of the basis states of the individual systems. "
   ]
  },
  {
   "cell_type": "markdown",
   "metadata": {},
   "source": [
    "Let us see some representations of states and tensor network examples in Qiskit."
   ]
  },
  {
   "cell_type": "code",
   "execution_count": 2,
   "metadata": {},
   "outputs": [
    {
     "data": {
      "text/latex": [
       "$$ |01\\rangle$$"
      ],
      "text/plain": [
       "<IPython.core.display.Latex object>"
      ]
     },
     "execution_count": 2,
     "metadata": {},
     "output_type": "execute_result"
    }
   ],
   "source": [
    "zero, one = Statevector.from_label(\"0\"), Statevector.from_label(\"1\")\n",
    "zero.tensor(one).draw(\"latex\")"
   ]
  },
  {
   "cell_type": "code",
   "execution_count": 3,
   "metadata": {},
   "outputs": [
    {
     "data": {
      "text/latex": [
       "$$\\frac{1}{2} |00\\rangle+\\frac{i}{2} |01\\rangle+\\frac{1}{2} |10\\rangle+\\frac{i}{2} |11\\rangle$$"
      ],
      "text/plain": [
       "<IPython.core.display.Latex object>"
      ]
     },
     "execution_count": 3,
     "metadata": {},
     "output_type": "execute_result"
    }
   ],
   "source": [
    "plus = Statevector.from_label(\"+\")\n",
    "i_state = Statevector([1 / sqrt(2), 1j / sqrt(2)])\n",
    "psi = plus.tensor(i_state)\n",
    "\n",
    "psi.draw(\"latex\")"
   ]
  },
  {
   "cell_type": "code",
   "execution_count": 4,
   "metadata": {},
   "outputs": [
    {
     "name": "stdout",
     "output_type": "stream",
     "text": [
      "Operator([[0.+0.j, 0.+0.j, 1.+0.j, 0.+0.j],\n",
      "          [0.+0.j, 0.+0.j, 0.+0.j, 1.+0.j],\n",
      "          [1.+0.j, 0.+0.j, 0.+0.j, 0.+0.j],\n",
      "          [0.+0.j, 1.+0.j, 0.+0.j, 0.+0.j]],\n",
      "         input_dims=(2, 2), output_dims=(2, 2))\n"
     ]
    }
   ],
   "source": [
    "X = Operator([[0, 1], [1, 0]])\n",
    "I = Operator([[1, 0], [0, 1]])\n",
    "\n",
    "X.tensor(I)"
   ]
  },
  {
   "cell_type": "markdown",
   "metadata": {},
   "source": [
    "It is worth noting that a two-system can have various state vectors, considering:\n",
    "1. Pure states: This means that the system is in a state that can be described by convex combination of basis state vectors.\n",
    "2. Product states: This means that the system is in a state that can be described by a product of state vectors.\n",
    "3. Entangled states: This means that the system is in a state that cannot be described as a product of state vectors."
   ]
  },
  {
   "cell_type": "markdown",
   "metadata": {},
   "source": [
    "## Measurement"
   ]
  },
  {
   "cell_type": "markdown",
   "metadata": {},
   "source": [
    "As demonstrated previously, measurement in quantum mechanics collapses the system's state vector to a single basis state. But with multiple systems we have the opportunity to measure just one state vector whilst leaving the others untouched. Now this works perfectly fine with product states as they can be described as tensor products of basis states leaving the others untouched:\n",
    "\\begin{equation}\n",
    "    \\ket{\\Psi}_{AB} = \\ket{\\alpha}_A \\otimes \\ket{\\beta}_B\n",
    "\\end{equation}\n",
    "\n",
    "\\begin{equation}\n",
    "    M_B \\ket{\\Psi}_{AB} = (\\mathbb{\\hat{1}}_A \\otimes M_B) [\\ket{\\alpha}_A \\otimes \\ket{\\beta}_B]\n",
    "    = (\\mathbb{\\hat{1}}_A \\ket{\\alpha}_A \\otimes M_B \\ket{\\beta}_B) \n",
    "\\end{equation}\n",
    "\n",
    "We see that the A state is left untouched whilst the B state is measured.\n",
    "\n",
    "As entangled states cannot be written as a product of basis states, measuring either system (A or B) will have an effect on the other, and measurement collapses the system's state vector to one of the entangled basis states. This is known as the measurement problem in quantum mechanics. \n",
    "\n",
    "Let us try some measurements in Qiskit on multiple systems. For this I will use the entangled W state of three qubits. "
   ]
  },
  {
   "cell_type": "code",
   "execution_count": 5,
   "metadata": {},
   "outputs": [
    {
     "data": {
      "text/latex": [
       "$$\\frac{\\sqrt{3}}{3} |001\\rangle+\\frac{\\sqrt{3}}{3} |010\\rangle+\\frac{\\sqrt{3}}{3} |100\\rangle$$"
      ],
      "text/plain": [
       "<IPython.core.display.Latex object>"
      ]
     },
     "execution_count": 5,
     "metadata": {},
     "output_type": "execute_result"
    }
   ],
   "source": [
    "W = Statevector([0, 1, 1, 0, 1, 0, 0, 0] / sqrt(3))\n",
    "W.draw(\"latex\")"
   ]
  },
  {
   "cell_type": "code",
   "execution_count": 6,
   "metadata": {},
   "outputs": [
    {
     "name": "stdout",
     "output_type": "stream",
     "text": [
      "Measured: 1\n",
      "State after measurement:\n"
     ]
    },
    {
     "data": {
      "text/latex": [
       "$$ |001\\rangle$$"
      ],
      "text/plain": [
       "<IPython.core.display.Latex object>"
      ]
     },
     "execution_count": 6,
     "metadata": {},
     "output_type": "execute_result"
    }
   ],
   "source": [
    "result, new_sv = W.measure([0])  # measure qubit 0\n",
    "print(f\"Measured: {result}\\nState after measurement:\")\n",
    "new_sv.draw(\"latex\")"
   ]
  },
  {
   "cell_type": "code",
   "execution_count": 7,
   "metadata": {},
   "outputs": [
    {
     "name": "stdout",
     "output_type": "stream",
     "text": [
      "Measured: 1\n",
      "State after measurement:\n"
     ]
    },
    {
     "data": {
      "text/latex": [
       "$$ |001\\rangle$$"
      ],
      "text/plain": [
       "<IPython.core.display.Latex object>"
      ]
     },
     "execution_count": 7,
     "metadata": {},
     "output_type": "execute_result"
    }
   ],
   "source": [
    "result, new_sv = W.measure([0])  # measure qubit 0\n",
    "print(f\"Measured: {result}\\nState after measurement:\")\n",
    "new_sv.draw(\"latex\")"
   ]
  },
  {
   "cell_type": "markdown",
   "metadata": {},
   "source": [
    "We see that if we measure qubit 0 and it is in state $\\ket{0}$ then our state will collapse to $\\frac{1}{\\sqrt{2}} (\\ket{001} + \\ket{010})$, if it is in state $\\ket{1}$ then our state will collapse to $\\ket{100}$. This is a simple example of measuring an entangled state."
   ]
  }
 ],
 "metadata": {
  "kernelspec": {
   "display_name": "Python 3",
   "language": "python",
   "name": "python3"
  },
  "language_info": {
   "codemirror_mode": {
    "name": "ipython",
    "version": 3
   },
   "file_extension": ".py",
   "mimetype": "text/x-python",
   "name": "python",
   "nbconvert_exporter": "python",
   "pygments_lexer": "ipython3",
   "version": "3.9.13"
  }
 },
 "nbformat": 4,
 "nbformat_minor": 2
}
